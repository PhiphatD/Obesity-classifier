{
 "cells": [
  {
   "cell_type": "markdown",
   "id": "d00e0e03",
   "metadata": {},
   "source": [
    "## ขั้นที่ 1: import library ที่จำเป็นต้องใช้รวมถึงชุดข้อมูล\n"
   ]
  },
  {
   "cell_type": "code",
   "execution_count": 2,
   "id": "9ad8dec5",
   "metadata": {},
   "outputs": [
    {
     "data": {
      "text/plain": [
       "WindowsPath('MOBS-02S.csv')"
      ]
     },
     "execution_count": 2,
     "metadata": {},
     "output_type": "execute_result"
    }
   ],
   "source": [
    "# Step 1: Imports + ตั้งพาธไฟล์\n",
    "import pandas as pd\n",
    "from pathlib import Path\n",
    "import numpy as np\n",
    "import matplotlib.pyplot as plt\n",
    "\n",
    "# ถ้าไฟล์อยู่โฟลเดอร์เดียวกับโน้ตบุ๊ก ให้ใช้แบบนี้\n",
    "DATA_PATH = Path(\"MOBS-02S.csv\")\n",
    "\n",
    "# ถ้าไฟล์อยู่ในโฟลเดอร์ Obesity_Classifier ให้ใช้บรรทัดล่างแทน (ปรับตามโครงสร้างจริง)\n",
    "# DATA_PATH = Path(\"Obesity_Classifier\") / \"MOBS-02S.csv\"\n",
    "\n",
    "DATA_PATH\n"
   ]
  },
  {
   "cell_type": "code",
   "execution_count": 3,
   "id": "4becce44",
   "metadata": {},
   "outputs": [
    {
     "name": "stdout",
     "output_type": "stream",
     "text": [
      "Loaded with encoding: utf-8\n",
      "Shape: (2111, 17)\n",
      "Columns: ['gender', 'age', 'height', 'weight', 'overweight_family', 'consum_cf', 'consum_vf', 'comsum_daily', 'consum_other', 'smoking', 'consum_water', 'cal_monitoring', 'phyical_activity', 'device_usage', 'consum_alchohol', 'transportation', 'Obesity']\n",
      "<class 'pandas.core.frame.DataFrame'>\n",
      "RangeIndex: 2111 entries, 0 to 2110\n",
      "Data columns (total 17 columns):\n",
      " #   Column             Non-Null Count  Dtype  \n",
      "---  ------             --------------  -----  \n",
      " 0   gender             2111 non-null   object \n",
      " 1   age                2107 non-null   float64\n",
      " 2   height             2111 non-null   float64\n",
      " 3   weight             2105 non-null   float64\n",
      " 4   overweight_family  2111 non-null   int64  \n",
      " 5   consum_cf          2111 non-null   int64  \n",
      " 6   consum_vf          2111 non-null   float64\n",
      " 7   comsum_daily       2111 non-null   float64\n",
      " 8   consum_other       2111 non-null   object \n",
      " 9   smoking            2111 non-null   object \n",
      " 10  consum_water       2111 non-null   float64\n",
      " 11  cal_monitoring     2111 non-null   object \n",
      " 12  phyical_activity   2106 non-null   float64\n",
      " 13  device_usage       2111 non-null   float64\n",
      " 14  consum_alchohol    2111 non-null   object \n",
      " 15  transportation     2111 non-null   object \n",
      " 16  Obesity            2111 non-null   int64  \n",
      "dtypes: float64(8), int64(3), object(6)\n",
      "memory usage: 280.5+ KB\n"
     ]
    },
    {
     "data": {
      "application/vnd.microsoft.datawrangler.viewer.v0+json": {
       "columns": [
        {
         "name": "index",
         "rawType": "int64",
         "type": "integer"
        },
        {
         "name": "gender",
         "rawType": "object",
         "type": "string"
        },
        {
         "name": "age",
         "rawType": "float64",
         "type": "float"
        },
        {
         "name": "height",
         "rawType": "float64",
         "type": "float"
        },
        {
         "name": "weight",
         "rawType": "float64",
         "type": "float"
        },
        {
         "name": "overweight_family",
         "rawType": "int64",
         "type": "integer"
        },
        {
         "name": "consum_cf",
         "rawType": "int64",
         "type": "integer"
        },
        {
         "name": "consum_vf",
         "rawType": "float64",
         "type": "float"
        },
        {
         "name": "comsum_daily",
         "rawType": "float64",
         "type": "float"
        },
        {
         "name": "consum_other",
         "rawType": "object",
         "type": "string"
        },
        {
         "name": "smoking",
         "rawType": "object",
         "type": "string"
        },
        {
         "name": "consum_water",
         "rawType": "float64",
         "type": "float"
        },
        {
         "name": "cal_monitoring",
         "rawType": "object",
         "type": "string"
        },
        {
         "name": "phyical_activity",
         "rawType": "float64",
         "type": "float"
        },
        {
         "name": "device_usage",
         "rawType": "float64",
         "type": "float"
        },
        {
         "name": "consum_alchohol",
         "rawType": "object",
         "type": "string"
        },
        {
         "name": "transportation",
         "rawType": "object",
         "type": "string"
        },
        {
         "name": "Obesity",
         "rawType": "int64",
         "type": "integer"
        }
       ],
       "ref": "572502c3-b026-4df8-b6be-315aed271189",
       "rows": [
        [
         "0",
         "Female",
         "22.0",
         "1.63",
         "66.0",
         "1",
         "0",
         "2.0",
         "3.0",
         "Sometimes",
         "no",
         "2.0",
         "no",
         "0.0",
         "1.0",
         "no",
         "pt",
         "1"
        ],
        [
         "1",
         "Female",
         "22.0",
         "1.53",
         "58.0",
         "1",
         "0",
         "3.0",
         "3.0",
         "Sometimes",
         "yes",
         "3.0",
         "yes",
         "3.0",
         "0.0",
         "Sometimes",
         "pt",
         "1"
        ],
        [
         "2",
         "Male",
         "24.0",
         "1.81",
         "79.0",
         "1",
         "0",
         "2.0",
         "3.0",
         "Sometimes",
         "no",
         "2.0",
         "no",
         "2.0",
         "1.0",
         "Frequently",
         "pt",
         "1"
        ],
        [
         "3",
         "Male",
         "28.0",
         "1.81",
         "89.0",
         "0",
         "0",
         "3.0",
         "3.0",
         "Sometimes",
         "no",
         "2.0",
         "no",
         "2.0",
         "0.0",
         "Frequently",
         "w",
         "2"
        ],
        [
         "4",
         "Male",
         "23.0",
         "1.79",
         "90.8",
         "0",
         "0",
         "2.0",
         "1.0",
         "Sometimes",
         "no",
         "2.0",
         "no",
         "0.0",
         "0.0",
         "Sometimes",
         "pt",
         "3"
        ]
       ],
       "shape": {
        "columns": 17,
        "rows": 5
       }
      },
      "text/html": [
       "<div>\n",
       "<style scoped>\n",
       "    .dataframe tbody tr th:only-of-type {\n",
       "        vertical-align: middle;\n",
       "    }\n",
       "\n",
       "    .dataframe tbody tr th {\n",
       "        vertical-align: top;\n",
       "    }\n",
       "\n",
       "    .dataframe thead th {\n",
       "        text-align: right;\n",
       "    }\n",
       "</style>\n",
       "<table border=\"1\" class=\"dataframe\">\n",
       "  <thead>\n",
       "    <tr style=\"text-align: right;\">\n",
       "      <th></th>\n",
       "      <th>gender</th>\n",
       "      <th>age</th>\n",
       "      <th>height</th>\n",
       "      <th>weight</th>\n",
       "      <th>overweight_family</th>\n",
       "      <th>consum_cf</th>\n",
       "      <th>consum_vf</th>\n",
       "      <th>comsum_daily</th>\n",
       "      <th>consum_other</th>\n",
       "      <th>smoking</th>\n",
       "      <th>consum_water</th>\n",
       "      <th>cal_monitoring</th>\n",
       "      <th>phyical_activity</th>\n",
       "      <th>device_usage</th>\n",
       "      <th>consum_alchohol</th>\n",
       "      <th>transportation</th>\n",
       "      <th>Obesity</th>\n",
       "    </tr>\n",
       "  </thead>\n",
       "  <tbody>\n",
       "    <tr>\n",
       "      <th>0</th>\n",
       "      <td>Female</td>\n",
       "      <td>22.0</td>\n",
       "      <td>1.63</td>\n",
       "      <td>66.0</td>\n",
       "      <td>1</td>\n",
       "      <td>0</td>\n",
       "      <td>2.0</td>\n",
       "      <td>3.0</td>\n",
       "      <td>Sometimes</td>\n",
       "      <td>no</td>\n",
       "      <td>2.0</td>\n",
       "      <td>no</td>\n",
       "      <td>0.0</td>\n",
       "      <td>1.0</td>\n",
       "      <td>no</td>\n",
       "      <td>pt</td>\n",
       "      <td>1</td>\n",
       "    </tr>\n",
       "    <tr>\n",
       "      <th>1</th>\n",
       "      <td>Female</td>\n",
       "      <td>22.0</td>\n",
       "      <td>1.53</td>\n",
       "      <td>58.0</td>\n",
       "      <td>1</td>\n",
       "      <td>0</td>\n",
       "      <td>3.0</td>\n",
       "      <td>3.0</td>\n",
       "      <td>Sometimes</td>\n",
       "      <td>yes</td>\n",
       "      <td>3.0</td>\n",
       "      <td>yes</td>\n",
       "      <td>3.0</td>\n",
       "      <td>0.0</td>\n",
       "      <td>Sometimes</td>\n",
       "      <td>pt</td>\n",
       "      <td>1</td>\n",
       "    </tr>\n",
       "    <tr>\n",
       "      <th>2</th>\n",
       "      <td>Male</td>\n",
       "      <td>24.0</td>\n",
       "      <td>1.81</td>\n",
       "      <td>79.0</td>\n",
       "      <td>1</td>\n",
       "      <td>0</td>\n",
       "      <td>2.0</td>\n",
       "      <td>3.0</td>\n",
       "      <td>Sometimes</td>\n",
       "      <td>no</td>\n",
       "      <td>2.0</td>\n",
       "      <td>no</td>\n",
       "      <td>2.0</td>\n",
       "      <td>1.0</td>\n",
       "      <td>Frequently</td>\n",
       "      <td>pt</td>\n",
       "      <td>1</td>\n",
       "    </tr>\n",
       "    <tr>\n",
       "      <th>3</th>\n",
       "      <td>Male</td>\n",
       "      <td>28.0</td>\n",
       "      <td>1.81</td>\n",
       "      <td>89.0</td>\n",
       "      <td>0</td>\n",
       "      <td>0</td>\n",
       "      <td>3.0</td>\n",
       "      <td>3.0</td>\n",
       "      <td>Sometimes</td>\n",
       "      <td>no</td>\n",
       "      <td>2.0</td>\n",
       "      <td>no</td>\n",
       "      <td>2.0</td>\n",
       "      <td>0.0</td>\n",
       "      <td>Frequently</td>\n",
       "      <td>w</td>\n",
       "      <td>2</td>\n",
       "    </tr>\n",
       "    <tr>\n",
       "      <th>4</th>\n",
       "      <td>Male</td>\n",
       "      <td>23.0</td>\n",
       "      <td>1.79</td>\n",
       "      <td>90.8</td>\n",
       "      <td>0</td>\n",
       "      <td>0</td>\n",
       "      <td>2.0</td>\n",
       "      <td>1.0</td>\n",
       "      <td>Sometimes</td>\n",
       "      <td>no</td>\n",
       "      <td>2.0</td>\n",
       "      <td>no</td>\n",
       "      <td>0.0</td>\n",
       "      <td>0.0</td>\n",
       "      <td>Sometimes</td>\n",
       "      <td>pt</td>\n",
       "      <td>3</td>\n",
       "    </tr>\n",
       "  </tbody>\n",
       "</table>\n",
       "</div>"
      ],
      "text/plain": [
       "   gender   age  height  weight  overweight_family  consum_cf  consum_vf  \\\n",
       "0  Female  22.0    1.63    66.0                  1          0        2.0   \n",
       "1  Female  22.0    1.53    58.0                  1          0        3.0   \n",
       "2    Male  24.0    1.81    79.0                  1          0        2.0   \n",
       "3    Male  28.0    1.81    89.0                  0          0        3.0   \n",
       "4    Male  23.0    1.79    90.8                  0          0        2.0   \n",
       "\n",
       "   comsum_daily consum_other smoking  consum_water cal_monitoring  \\\n",
       "0           3.0    Sometimes      no           2.0             no   \n",
       "1           3.0    Sometimes     yes           3.0            yes   \n",
       "2           3.0    Sometimes      no           2.0             no   \n",
       "3           3.0    Sometimes      no           2.0             no   \n",
       "4           1.0    Sometimes      no           2.0             no   \n",
       "\n",
       "   phyical_activity  device_usage consum_alchohol transportation  Obesity  \n",
       "0               0.0           1.0              no             pt        1  \n",
       "1               3.0           0.0       Sometimes             pt        1  \n",
       "2               2.0           1.0      Frequently             pt        1  \n",
       "3               2.0           0.0      Frequently              w        2  \n",
       "4               0.0           0.0       Sometimes             pt        3  "
      ]
     },
     "execution_count": 3,
     "metadata": {},
     "output_type": "execute_result"
    }
   ],
   "source": [
    "# Step 2: อ่านไฟล์ CSV (ลองหลาย encoding เผื่อไฟล์ไม่ใช่ utf-8)\n",
    "encodings = [\"utf-8\", \"cp874\", \"cp1252\", \"latin1\"]  # เรียงลำดับที่มักใช้กับไฟล์ภาษาไทย\n",
    "last_err = None\n",
    "for enc in encodings:\n",
    "    try:\n",
    "        df = pd.read_csv(DATA_PATH, encoding=enc, low_memory=False)\n",
    "        print(f\"Loaded with encoding: {enc}\")\n",
    "        break\n",
    "    except Exception as e:\n",
    "        last_err = e\n",
    "else:\n",
    "    raise last_err  # ถ้าอ่านไม่ได้ทุกแบบ ให้ดู error ล่าสุด\n",
    "\n",
    "print(\"Shape:\", df.shape)      # จำนวนแถว x คอลัมน์\n",
    "print(\"Columns:\", list(df.columns))  # รายชื่อคอลัมน์\n",
    "\n",
    "# ดูชนิดข้อมูลและจำนวน non-null\n",
    "df.info()\n",
    "\n",
    "# ดู 5 แถวแรกเพื่อเช็คหน้าตา\n",
    "df.head()\n"
   ]
  },
  {
   "cell_type": "markdown",
   "id": "e8aac17a",
   "metadata": {},
   "source": [
    "## ขั้นที่ 2: ตรวจ label (Obesity) ก่อนว่าเป็น Binary หรือ Multiclass\n",
    "    # Target = Obesity\n",
    "\n",
    "    - มี 6 คลาส (1 ถึง 6) → ปัญหาของเราคือ multiclass classification\n",
    "    - โมเดลต้องใช้ softmax ที่ output layer\n",
    "        Loss function ที่เหมาะ:\n",
    "        ถ้า label เป็นตัวเลข integer (1–6) → SparseCategoricalCrossentropy\n"
   ]
  },
  {
   "cell_type": "markdown",
   "id": "0cb7b261",
   "metadata": {},
   "source": [
    "## ขั้นที่ 3: Preprocessing & Data cleaning\n"
   ]
  },
  {
   "cell_type": "code",
   "execution_count": 4,
   "id": "5fd0a349",
   "metadata": {},
   "outputs": [
    {
     "name": "stdout",
     "output_type": "stream",
     "text": [
      "ก่อนทำความสะอาด\n",
      " - จำนวนแถวทั้งหมด: 2111\n",
      " - จำนวนค่า missing (age): 4\n",
      " - ค่าต่ำสุด/สูงสุด (ignore NaN): 15.0 / 62.0\n",
      "\n",
      "หลังทำความสะอาด\n",
      " - ใช้ median ในการเติม: 24\n",
      "count    2111.000000\n",
      "mean       25.318806\n",
      "std         6.356041\n",
      "min        15.000000\n",
      "25%        21.000000\n",
      "50%        24.000000\n",
      "75%        27.000000\n",
      "max        62.000000\n",
      "Name: age_clean, dtype: float64\n"
     ]
    },
    {
     "data": {
      "application/vnd.microsoft.datawrangler.viewer.v0+json": {
       "columns": [
        {
         "name": "index",
         "rawType": "int64",
         "type": "integer"
        },
        {
         "name": "age_raw",
         "rawType": "float64",
         "type": "float"
        },
        {
         "name": "age_clean",
         "rawType": "int64",
         "type": "integer"
        }
       ],
       "ref": "ccaa5bf2-ba14-4726-85a4-621e37618520",
       "rows": [
        [
         "0",
         "22.0",
         "22"
        ],
        [
         "1",
         "22.0",
         "22"
        ],
        [
         "2",
         "24.0",
         "24"
        ],
        [
         "3",
         "28.0",
         "28"
        ],
        [
         "4",
         "23.0",
         "23"
        ],
        [
         "5",
         "30.0",
         "30"
        ],
        [
         "6",
         "24.0",
         "24"
        ],
        [
         "7",
         "23.0",
         "23"
        ],
        [
         "8",
         "25.0",
         "25"
        ],
        [
         "9",
         "23.0",
         "23"
        ]
       ],
       "shape": {
        "columns": 2,
        "rows": 10
       }
      },
      "text/html": [
       "<div>\n",
       "<style scoped>\n",
       "    .dataframe tbody tr th:only-of-type {\n",
       "        vertical-align: middle;\n",
       "    }\n",
       "\n",
       "    .dataframe tbody tr th {\n",
       "        vertical-align: top;\n",
       "    }\n",
       "\n",
       "    .dataframe thead th {\n",
       "        text-align: right;\n",
       "    }\n",
       "</style>\n",
       "<table border=\"1\" class=\"dataframe\">\n",
       "  <thead>\n",
       "    <tr style=\"text-align: right;\">\n",
       "      <th></th>\n",
       "      <th>age_raw</th>\n",
       "      <th>age_clean</th>\n",
       "    </tr>\n",
       "  </thead>\n",
       "  <tbody>\n",
       "    <tr>\n",
       "      <th>0</th>\n",
       "      <td>22.0</td>\n",
       "      <td>22</td>\n",
       "    </tr>\n",
       "    <tr>\n",
       "      <th>1</th>\n",
       "      <td>22.0</td>\n",
       "      <td>22</td>\n",
       "    </tr>\n",
       "    <tr>\n",
       "      <th>2</th>\n",
       "      <td>24.0</td>\n",
       "      <td>24</td>\n",
       "    </tr>\n",
       "    <tr>\n",
       "      <th>3</th>\n",
       "      <td>28.0</td>\n",
       "      <td>28</td>\n",
       "    </tr>\n",
       "    <tr>\n",
       "      <th>4</th>\n",
       "      <td>23.0</td>\n",
       "      <td>23</td>\n",
       "    </tr>\n",
       "    <tr>\n",
       "      <th>5</th>\n",
       "      <td>30.0</td>\n",
       "      <td>30</td>\n",
       "    </tr>\n",
       "    <tr>\n",
       "      <th>6</th>\n",
       "      <td>24.0</td>\n",
       "      <td>24</td>\n",
       "    </tr>\n",
       "    <tr>\n",
       "      <th>7</th>\n",
       "      <td>23.0</td>\n",
       "      <td>23</td>\n",
       "    </tr>\n",
       "    <tr>\n",
       "      <th>8</th>\n",
       "      <td>25.0</td>\n",
       "      <td>25</td>\n",
       "    </tr>\n",
       "    <tr>\n",
       "      <th>9</th>\n",
       "      <td>23.0</td>\n",
       "      <td>23</td>\n",
       "    </tr>\n",
       "  </tbody>\n",
       "</table>\n",
       "</div>"
      ],
      "text/plain": [
       "   age_raw  age_clean\n",
       "0     22.0         22\n",
       "1     22.0         22\n",
       "2     24.0         24\n",
       "3     28.0         28\n",
       "4     23.0         23\n",
       "5     30.0         30\n",
       "6     24.0         24\n",
       "7     23.0         23\n",
       "8     25.0         25\n",
       "9     23.0         23"
      ]
     },
     "execution_count": 4,
     "metadata": {},
     "output_type": "execute_result"
    }
   ],
   "source": [
    "# Step 3.1 — Clean `age` (ทำคอลัมน์ใหม่ age_clean ไม่ทับของเดิม)\n",
    "# เก็บคอลัมน์ดิบไว้ก่อน (เพื่อเทียบ)\n",
    "if \"age_raw\" not in df.columns:\n",
    "    df[\"age_raw\"] = df[\"age\"]\n",
    "\n",
    "# แปลงเป็นตัวเลข (ค่าที่แปลงไม่ได้จะเป็น NaN)\n",
    "age_num = pd.to_numeric(df[\"age\"], errors=\"coerce\")\n",
    "\n",
    "# รายงานสถานะก่อนทำ\n",
    "print(\"ก่อนทำความสะอาด\")\n",
    "print(\" - จำนวนแถวทั้งหมด:\", len(df))\n",
    "print(\" - จำนวนค่า missing (age):\", age_num.isna().sum())\n",
    "print(\" - ค่าต่ำสุด/สูงสุด (ignore NaN):\", float(np.nanmin(age_num)), \"/\", float(np.nanmax(age_num)))\n",
    "\n",
    "# เติม missing ด้วย median (ปัดเป็น int)\n",
    "age_med = int(round(np.nanmedian(age_num)))\n",
    "df[\"age_clean\"] = (\n",
    "    age_num.round()              # ปัดทศนิยมให้เป็นจำนวนเต็ม\n",
    "          .fillna(age_med)       # เติมค่าว่างด้วย median\n",
    "          .clip(5, 120)          # จำกัดให้อยู่ในช่วงที่เป็นไปได้ของมนุษย์\n",
    "          .astype(int)\n",
    ")\n",
    "\n",
    "# สรุปหลังทำความสะอาด\n",
    "print(\"\\nหลังทำความสะอาด\")\n",
    "print(\" - ใช้ median ในการเติม:\", age_med)\n",
    "print(df[\"age_clean\"].describe())\n",
    "\n",
    "# ดูตัวอย่าง 10 แถวแรก (ก่อน–หลัง)\n",
    "df[[\"age_raw\",\"age_clean\"]].head(10)\n"
   ]
  },
  {
   "cell_type": "code",
   "execution_count": 5,
   "id": "d1e46412",
   "metadata": {},
   "outputs": [
    {
     "name": "stdout",
     "output_type": "stream",
     "text": [
      "ก่อนทำความสะอาด (height — meters)\n",
      " - จำนวนแถวทั้งหมด: 2111\n",
      " - จำนวนค่า missing: 0\n",
      " - ค่าต่ำสุด/สูงสุด (ignore NaN): 1.46 / 1.99\n",
      "\n",
      "หลังทำความสะอาด\n",
      " - ใช้ median ในการเติม: 1.71 m\n",
      " - จำนวนที่ต่ำกว่า 1.2 m (ถูก clip): 0\n",
      " - จำนวนที่สูงกว่า 2.2 m (ถูก clip): 0\n",
      "count    2111.000000\n",
      "mean        1.711615\n",
      "std         0.093358\n",
      "min         1.460000\n",
      "25%         1.640000\n",
      "50%         1.710000\n",
      "75%         1.780000\n",
      "max         1.990000\n",
      "Name: height_m_clean, dtype: float64\n"
     ]
    },
    {
     "data": {
      "image/png": "[encoded data removed]",
      "text/plain": [
       "<Figure size 600x300 with 1 Axes>"
      ]
     },
     "metadata": {},
     "output_type": "display_data"
    },
    {
     "data": {
      "image/png": "[encoded data removed]",
      "text/plain": [
       "<Figure size 600x300 with 1 Axes>"
      ]
     },
     "metadata": {},
     "output_type": "display_data"
    },
    {
     "data": {
      "application/vnd.microsoft.datawrangler.viewer.v0+json": {
       "columns": [
        {
         "name": "index",
         "rawType": "int64",
         "type": "integer"
        },
        {
         "name": "height_raw",
         "rawType": "float64",
         "type": "float"
        },
        {
         "name": "height_m_clean",
         "rawType": "float64",
         "type": "float"
        }
       ],
       "ref": "80e7b88e-1e36-4318-96ce-3379c4d952db",
       "rows": [
        [
         "498",
         "1.696306",
         "1.7"
        ],
        [
         "499",
         "1.693124",
         "1.69"
        ],
        [
         "500",
         "1.632397",
         "1.63"
        ],
        [
         "501",
         "1.765643",
         "1.77"
        ],
        [
         "502",
         "1.853419",
         "1.85"
        ],
        [
         "503",
         "1.7556",
         "1.76"
        ],
        [
         "504",
         "1.640927",
         "1.64"
        ],
        [
         "505",
         "1.639191",
         "1.64"
        ],
        [
         "506",
         "1.780612",
         "1.78"
        ],
        [
         "507",
         "1.753702",
         "1.75"
        ]
       ],
       "shape": {
        "columns": 2,
        "rows": 10
       }
      },
      "text/html": [
       "<div>\n",
       "<style scoped>\n",
       "    .dataframe tbody tr th:only-of-type {\n",
       "        vertical-align: middle;\n",
       "    }\n",
       "\n",
       "    .dataframe tbody tr th {\n",
       "        vertical-align: top;\n",
       "    }\n",
       "\n",
       "    .dataframe thead th {\n",
       "        text-align: right;\n",
       "    }\n",
       "</style>\n",
       "<table border=\"1\" class=\"dataframe\">\n",
       "  <thead>\n",
       "    <tr style=\"text-align: right;\">\n",
       "      <th></th>\n",
       "      <th>height_raw</th>\n",
       "      <th>height_m_clean</th>\n",
       "    </tr>\n",
       "  </thead>\n",
       "  <tbody>\n",
       "    <tr>\n",
       "      <th>498</th>\n",
       "      <td>1.696306</td>\n",
       "      <td>1.70</td>\n",
       "    </tr>\n",
       "    <tr>\n",
       "      <th>499</th>\n",
       "      <td>1.693124</td>\n",
       "      <td>1.69</td>\n",
       "    </tr>\n",
       "    <tr>\n",
       "      <th>500</th>\n",
       "      <td>1.632397</td>\n",
       "      <td>1.63</td>\n",
       "    </tr>\n",
       "    <tr>\n",
       "      <th>501</th>\n",
       "      <td>1.765643</td>\n",
       "      <td>1.77</td>\n",
       "    </tr>\n",
       "    <tr>\n",
       "      <th>502</th>\n",
       "      <td>1.853419</td>\n",
       "      <td>1.85</td>\n",
       "    </tr>\n",
       "    <tr>\n",
       "      <th>503</th>\n",
       "      <td>1.755600</td>\n",
       "      <td>1.76</td>\n",
       "    </tr>\n",
       "    <tr>\n",
       "      <th>504</th>\n",
       "      <td>1.640927</td>\n",
       "      <td>1.64</td>\n",
       "    </tr>\n",
       "    <tr>\n",
       "      <th>505</th>\n",
       "      <td>1.639191</td>\n",
       "      <td>1.64</td>\n",
       "    </tr>\n",
       "    <tr>\n",
       "      <th>506</th>\n",
       "      <td>1.780612</td>\n",
       "      <td>1.78</td>\n",
       "    </tr>\n",
       "    <tr>\n",
       "      <th>507</th>\n",
       "      <td>1.753702</td>\n",
       "      <td>1.75</td>\n",
       "    </tr>\n",
       "  </tbody>\n",
       "</table>\n",
       "</div>"
      ],
      "text/plain": [
       "     height_raw  height_m_clean\n",
       "498    1.696306            1.70\n",
       "499    1.693124            1.69\n",
       "500    1.632397            1.63\n",
       "501    1.765643            1.77\n",
       "502    1.853419            1.85\n",
       "503    1.755600            1.76\n",
       "504    1.640927            1.64\n",
       "505    1.639191            1.64\n",
       "506    1.780612            1.78\n",
       "507    1.753702            1.75"
      ]
     },
     "execution_count": 5,
     "metadata": {},
     "output_type": "execute_result"
    }
   ],
   "source": [
    "# Step 3.2 — Clean `height` (เมตร) และสร้างคอลัมน์ใหม่ height_m_clean\n",
    "# เก็บของดิบไว้ก่อนสำหรับเทียบ\n",
    "if \"height_raw\" not in df.columns:\n",
    "    df[\"height_raw\"] = df[\"height\"]\n",
    "\n",
    "# แปลงเป็นตัวเลข (ค่าที่แปลงไม่ได้จะเป็น NaN)\n",
    "h_num = pd.to_numeric(df[\"height\"], errors=\"coerce\")\n",
    "\n",
    "# รายงานสถานะก่อนทำ\n",
    "print(\"ก่อนทำความสะอาด (height — meters)\")\n",
    "print(\" - จำนวนแถวทั้งหมด:\", len(df))\n",
    "print(\" - จำนวนค่า missing:\", h_num.isna().sum())\n",
    "print(\" - ค่าต่ำสุด/สูงสุด (ignore NaN):\", float(np.nanmin(h_num)), \"/\", float(np.nanmax(h_num)))\n",
    "\n",
    "# เติมค่าว่างด้วย median\n",
    "h_med = float(np.nanmedian(h_num))\n",
    "h_imp = h_num.fillna(h_med)\n",
    "\n",
    "# กำหนดช่วงที่สมเหตุสมผลของความสูงมนุษย์ (เมตร)\n",
    "LOW, HIGH = 1.20, 2.20\n",
    "\n",
    "# นับจำนวนที่จะถูก clip ออกเพราะหลุดช่วง\n",
    "n_low  = int((h_imp < LOW).sum())\n",
    "n_high = int((h_imp > HIGH).sum())\n",
    "\n",
    "# clip + ปัดทศนิยมเหลือ 2 ตำแหน่ง (เช่น 1.826298 -> 1.83)\n",
    "h_clip = h_imp.clip(LOW, HIGH)\n",
    "df[\"height_m_clean\"] = h_clip.round(2)\n",
    "\n",
    "print(\"\\nหลังทำความสะอาด\")\n",
    "print(f\" - ใช้ median ในการเติม: {h_med:.2f} m\")\n",
    "print(f\" - จำนวนที่ต่ำกว่า {LOW} m (ถูก clip):\", n_low)\n",
    "print(f\" - จำนวนที่สูงกว่า {HIGH} m (ถูก clip):\", n_high)\n",
    "print(df[\"height_m_clean\"].describe())\n",
    "\n",
    "# ฮิสโตแกรมก่อน–หลัง (อย่างละกราฟ)\n",
    "plt.figure(figsize=(6,3))\n",
    "h_num.dropna().astype(float).hist(bins=30)\n",
    "plt.title(\"height (before clean)\")\n",
    "plt.xlabel(\"meters\"); plt.ylabel(\"count\")\n",
    "plt.tight_layout(); plt.show()\n",
    "\n",
    "plt.figure(figsize=(6,3))\n",
    "df[\"height_m_clean\"].hist(bins=30)\n",
    "plt.title(\"height_m_clean (after clean)\")\n",
    "plt.xlabel(\"meters\"); plt.ylabel(\"count\")\n",
    "plt.tight_layout(); plt.show()\n",
    "\n",
    "# ตัวอย่างแถวที่มีทศนิยมยาว ก่อน–หลัง\n",
    "mask_dec = h_num.notna() & (np.abs(h_num - h_num.round(2)) > 1e-6)\n",
    "df.loc[mask_dec, [\"height_raw\", \"height_m_clean\"]].head(10)"
   ]
  },
  {
   "cell_type": "code",
   "execution_count": 6,
   "id": "63167aab",
   "metadata": {},
   "outputs": [
    {
     "name": "stdout",
     "output_type": "stream",
     "text": [
      "ก่อนทำความสะอาด (weight — kg)\n",
      " - จำนวนแถวทั้งหมด: 2111\n",
      " - จำนวนค่า missing: 6\n",
      " - ค่าต่ำสุด/สูงสุด (ignore NaN): 40.0 / 175.0\n",
      "\n",
      "หลังทำความสะอาด\n",
      " - ใช้ median ในการเติม: 84.4 kg\n",
      " - จำนวนที่ต่ำกว่า 30.0 kg (ถูก clip): 0\n",
      " - จำนวนที่สูงกว่า 200.0 kg (ถูก clip): 0\n",
      "count    2111.000000\n",
      "mean       88.099195\n",
      "std        26.161153\n",
      "min        40.000000\n",
      "25%        67.000000\n",
      "50%        84.400000\n",
      "75%       108.950000\n",
      "max       175.000000\n",
      "Name: weight_kg_clean, dtype: float64\n"
     ]
    },
    {
     "data": {
      "image/png": "[encoded data removed]",
      "text/plain": [
       "<Figure size 600x300 with 1 Axes>"
      ]
     },
     "metadata": {},
     "output_type": "display_data"
    },
    {
     "data": {
      "image/png": "[encoded data removed]",
      "text/plain": [
       "<Figure size 600x300 with 1 Axes>"
      ]
     },
     "metadata": {},
     "output_type": "display_data"
    },
    {
     "data": {
      "application/vnd.microsoft.datawrangler.viewer.v0+json": {
       "columns": [
        {
         "name": "index",
         "rawType": "int64",
         "type": "integer"
        },
        {
         "name": "weight_raw",
         "rawType": "float64",
         "type": "float"
        },
        {
         "name": "weight_kg_clean",
         "rawType": "float64",
         "type": "float"
        }
       ],
       "ref": "419656d3-b9c9-4b8a-b7f5-8ae4af00489d",
       "rows": [
        [
         "498",
         "105.572712",
         "105.6"
        ],
        [
         "499",
         "128.67378",
         "128.7"
        ],
        [
         "500",
         "111.79263",
         "111.8"
        ],
        [
         "501",
         "138.796884",
         "138.8"
        ],
        [
         "502",
         "167.057269",
         "167.1"
        ],
        [
         "503",
         "134.03441",
         "134.0"
        ],
        [
         "504",
         "113.485516",
         "113.5"
        ],
        [
         "505",
         "106.826776",
         "106.8"
        ],
        [
         "506",
         "135.963349",
         "136.0"
        ],
        [
         "507",
         "55.927529",
         "55.9"
        ]
       ],
       "shape": {
        "columns": 2,
        "rows": 10
       }
      },
      "text/html": [
       "<div>\n",
       "<style scoped>\n",
       "    .dataframe tbody tr th:only-of-type {\n",
       "        vertical-align: middle;\n",
       "    }\n",
       "\n",
       "    .dataframe tbody tr th {\n",
       "        vertical-align: top;\n",
       "    }\n",
       "\n",
       "    .dataframe thead th {\n",
       "        text-align: right;\n",
       "    }\n",
       "</style>\n",
       "<table border=\"1\" class=\"dataframe\">\n",
       "  <thead>\n",
       "    <tr style=\"text-align: right;\">\n",
       "      <th></th>\n",
       "      <th>weight_raw</th>\n",
       "      <th>weight_kg_clean</th>\n",
       "    </tr>\n",
       "  </thead>\n",
       "  <tbody>\n",
       "    <tr>\n",
       "      <th>498</th>\n",
       "      <td>105.572712</td>\n",
       "      <td>105.6</td>\n",
       "    </tr>\n",
       "    <tr>\n",
       "      <th>499</th>\n",
       "      <td>128.673780</td>\n",
       "      <td>128.7</td>\n",
       "    </tr>\n",
       "    <tr>\n",
       "      <th>500</th>\n",
       "      <td>111.792630</td>\n",
       "      <td>111.8</td>\n",
       "    </tr>\n",
       "    <tr>\n",
       "      <th>501</th>\n",
       "      <td>138.796884</td>\n",
       "      <td>138.8</td>\n",
       "    </tr>\n",
       "    <tr>\n",
       "      <th>502</th>\n",
       "      <td>167.057269</td>\n",
       "      <td>167.1</td>\n",
       "    </tr>\n",
       "    <tr>\n",
       "      <th>503</th>\n",
       "      <td>134.034410</td>\n",
       "      <td>134.0</td>\n",
       "    </tr>\n",
       "    <tr>\n",
       "      <th>504</th>\n",
       "      <td>113.485516</td>\n",
       "      <td>113.5</td>\n",
       "    </tr>\n",
       "    <tr>\n",
       "      <th>505</th>\n",
       "      <td>106.826776</td>\n",
       "      <td>106.8</td>\n",
       "    </tr>\n",
       "    <tr>\n",
       "      <th>506</th>\n",
       "      <td>135.963349</td>\n",
       "      <td>136.0</td>\n",
       "    </tr>\n",
       "    <tr>\n",
       "      <th>507</th>\n",
       "      <td>55.927529</td>\n",
       "      <td>55.9</td>\n",
       "    </tr>\n",
       "  </tbody>\n",
       "</table>\n",
       "</div>"
      ],
      "text/plain": [
       "     weight_raw  weight_kg_clean\n",
       "498  105.572712            105.6\n",
       "499  128.673780            128.7\n",
       "500  111.792630            111.8\n",
       "501  138.796884            138.8\n",
       "502  167.057269            167.1\n",
       "503  134.034410            134.0\n",
       "504  113.485516            113.5\n",
       "505  106.826776            106.8\n",
       "506  135.963349            136.0\n",
       "507   55.927529             55.9"
      ]
     },
     "execution_count": 6,
     "metadata": {},
     "output_type": "execute_result"
    }
   ],
   "source": [
    "# Step 3.3 — Clean `weight` (kg) และสร้างคอลัมน์ใหม่ weight_kg_clean\n",
    "# เก็บของดิบไว้ก่อน (เพื่อเทียบ)\n",
    "if \"weight_raw\" not in df.columns:\n",
    "    df[\"weight_raw\"] = df[\"weight\"]\n",
    "\n",
    "# แปลงเป็นตัวเลข (ค่าที่แปลงไม่ได้ -> NaN)\n",
    "w_num = pd.to_numeric(df[\"weight\"], errors=\"coerce\")\n",
    "\n",
    "# รายงานสถานะก่อนทำ\n",
    "print(\"ก่อนทำความสะอาด (weight — kg)\")\n",
    "print(\" - จำนวนแถวทั้งหมด:\", len(df))\n",
    "print(\" - จำนวนค่า missing:\", w_num.isna().sum())\n",
    "if (~w_num.isna()).any():\n",
    "    print(\" - ค่าต่ำสุด/สูงสุด (ignore NaN):\", float(np.nanmin(w_num)), \"/\", float(np.nanmax(w_num)))\n",
    "\n",
    "# เติมค่าว่างด้วย median\n",
    "w_med = float(np.nanmedian(w_num))\n",
    "w_imp = w_num.fillna(w_med)\n",
    "\n",
    "# ช่วงที่เหมาะสมของน้ำหนักมนุษย์ (กก.)\n",
    "LOW, HIGH = 30.0, 200.0\n",
    "\n",
    "# นับที่จะถูก clip (ต่ำ/สูงเกิน)\n",
    "n_low  = int((w_imp < LOW).sum())\n",
    "n_high = int((w_imp > HIGH).sum())\n",
    "\n",
    "# clip + ปัดทศนิยมให้เหลือ 1 ตำแหน่ง (เช่น 60.123176 -> 60.1)\n",
    "w_clip = w_imp.clip(LOW, HIGH)\n",
    "df[\"weight_kg_clean\"] = w_clip.round(1)\n",
    "\n",
    "print(\"\\nหลังทำความสะอาด\")\n",
    "print(f\" - ใช้ median ในการเติม: {w_med:.1f} kg\")\n",
    "print(f\" - จำนวนที่ต่ำกว่า {LOW} kg (ถูก clip):\", n_low)\n",
    "print(f\" - จำนวนที่สูงกว่า {HIGH} kg (ถูก clip):\", n_high)\n",
    "print(df[\"weight_kg_clean\"].describe())\n",
    "\n",
    "# ฮิสโตแกรมก่อน–หลัง (อย่างละกราฟ)\n",
    "plt.figure(figsize=(6,3))\n",
    "w_num.dropna().astype(float).hist(bins=30)\n",
    "plt.title(\"weight (before clean)\")\n",
    "plt.xlabel(\"kg\"); plt.ylabel(\"count\")\n",
    "plt.tight_layout(); plt.show()\n",
    "\n",
    "plt.figure(figsize=(6,3))\n",
    "df[\"weight_kg_clean\"].hist(bins=30)\n",
    "plt.title(\"weight_kg_clean (after clean)\")\n",
    "plt.xlabel(\"kg\"); plt.ylabel(\"count\")\n",
    "plt.tight_layout(); plt.show()\n",
    "\n",
    "# ตัวอย่างค่าที่มีทศนิยมยาว ก่อน–หลัง\n",
    "mask_dec = w_num.notna() & (np.abs(w_num - w_num.round(1)) > 1e-9)\n",
    "df.loc[mask_dec, [\"weight_raw\", \"weight_kg_clean\"]].head(10)"
   ]
  },
  {
   "cell_type": "code",
   "execution_count": 7,
   "id": "3d1b2951",
   "metadata": {},
   "outputs": [
    {
     "name": "stdout",
     "output_type": "stream",
     "text": [
      "สรุป BMI หลังคำนวณ:\n",
      "count    2111.000000\n",
      "mean       29.879986\n",
      "std         7.910854\n",
      "min        13.440000\n",
      "25%        24.570000\n",
      "50%        28.880000\n",
      "75%        36.010000\n",
      "max        50.570000\n",
      "Name: BMI, dtype: float64\n"
     ]
    },
    {
     "data": {
      "image/png": "[encoded data removed]",
      "text/plain": [
       "<Figure size 600x300 with 1 Axes>"
      ]
     },
     "metadata": {},
     "output_type": "display_data"
    }
   ],
   "source": [
    "# Step 3.4 — สร้าง BMI จาก height_m_clean และ weight_kg_clean\n",
    "h = df[\"height_m_clean\"].replace(0, np.nan)\n",
    "w = df[\"weight_kg_clean\"]\n",
    "\n",
    "bmi = w / (h**2)\n",
    "# กันค่าแปลกมาก และปัดทศนิยม\n",
    "clean_bmi = df[\"BMI\"] = bmi.clip(10, 60).round(2) \n",
    "\n",
    "print(\"สรุป BMI หลังคำนวณ:\")\n",
    "print(df[\"BMI\"].describe())\n",
    "\n",
    "plt.figure(figsize=(6,3))\n",
    "df[\"BMI\"].dropna().hist(bins=30)\n",
    "plt.title(\"Histogram — BMI\")\n",
    "plt.xlabel(\"BMI\"); plt.ylabel(\"count\")\n",
    "plt.tight_layout(); plt.show()"
   ]
  },
  {
   "cell_type": "code",
   "execution_count": 8,
   "id": "2f8166d7",
   "metadata": {},
   "outputs": [
    {
     "data": {
      "text/plain": [
       "'Step G-1 — Missing report for `gender`'"
      ]
     },
     "metadata": {},
     "output_type": "display_data"
    },
    {
     "data": {
      "application/vnd.microsoft.datawrangler.viewer.v0+json": {
       "columns": [
        {
         "name": "index",
         "rawType": "int64",
         "type": "integer"
        },
        {
         "name": "metric",
         "rawType": "object",
         "type": "string"
        },
        {
         "name": "value",
         "rawType": "float64",
         "type": "float"
        }
       ],
       "ref": "f2128459-91ba-4b00-9d5c-06396187a237",
       "rows": [
        [
         "0",
         "total_rows",
         "2111.0"
        ],
        [
         "1",
         "missing_rows",
         "0.0"
        ],
        [
         "2",
         "missing_percent",
         "0.0"
        ]
       ],
       "shape": {
        "columns": 2,
        "rows": 3
       }
      },
      "text/html": [
       "<div>\n",
       "<style scoped>\n",
       "    .dataframe tbody tr th:only-of-type {\n",
       "        vertical-align: middle;\n",
       "    }\n",
       "\n",
       "    .dataframe tbody tr th {\n",
       "        vertical-align: top;\n",
       "    }\n",
       "\n",
       "    .dataframe thead th {\n",
       "        text-align: right;\n",
       "    }\n",
       "</style>\n",
       "<table border=\"1\" class=\"dataframe\">\n",
       "  <thead>\n",
       "    <tr style=\"text-align: right;\">\n",
       "      <th></th>\n",
       "      <th>metric</th>\n",
       "      <th>value</th>\n",
       "    </tr>\n",
       "  </thead>\n",
       "  <tbody>\n",
       "    <tr>\n",
       "      <th>0</th>\n",
       "      <td>total_rows</td>\n",
       "      <td>2111.0</td>\n",
       "    </tr>\n",
       "    <tr>\n",
       "      <th>1</th>\n",
       "      <td>missing_rows</td>\n",
       "      <td>0.0</td>\n",
       "    </tr>\n",
       "    <tr>\n",
       "      <th>2</th>\n",
       "      <td>missing_percent</td>\n",
       "      <td>0.0</td>\n",
       "    </tr>\n",
       "  </tbody>\n",
       "</table>\n",
       "</div>"
      ],
      "text/plain": [
       "            metric   value\n",
       "0       total_rows  2111.0\n",
       "1     missing_rows     0.0\n",
       "2  missing_percent     0.0"
      ]
     },
     "metadata": {},
     "output_type": "display_data"
    },
    {
     "name": "stdout",
     "output_type": "stream",
     "text": [
      "แถวทั้งหมด: 2111\n",
      "จำนวนที่ไม่ใช่ male/female: 0\n",
      "\n",
      "ผ่านการตรวจ: gender มีเฉพาะ Male/Female เท่านั้น\n",
      "gender_clean\n",
      "Male      1068\n",
      "Female    1043\n",
      "Name: count, dtype: int64\n"
     ]
    }
   ],
   "source": [
    "# Step 3.5 - Clean Gender and Normalize \n",
    "from IPython.display import display\n",
    "# ================ check missing value ============\n",
    "g_raw = df[\"gender\"]\n",
    "is_missing = g_raw.isna() | (g_raw.astype(str).str.strip() == \"\")\n",
    "\n",
    "total = len(df)\n",
    "n_missing = int(is_missing.sum())\n",
    "pct_missing = round(n_missing / total * 100, 2)\n",
    "\n",
    "\n",
    "summary = pd.DataFrame({\n",
    "    \"metric\": [\"total_rows\", \"missing_rows\", \"missing_percent\"],\n",
    "    \"value\": [total, n_missing, pct_missing]\n",
    "})\n",
    "display(\"Step G-1 — Missing report for `gender`\", summary)\n",
    "\n",
    "# ================ check Fomat   ============\n",
    "# เก็บของเดิมไว้ตรวจย้อนหลัง\n",
    "if \"gender_orig\" not in df.columns:\n",
    "    df[\"gender_orig\"] = df[\"gender\"]\n",
    "\n",
    "# 1) ทำความสะอาดข้อความเบื้องต้น\n",
    "g_norm = df[\"gender\"].astype(str).str.strip().str.lower()\n",
    "\n",
    "# 2) ตรวจว่ามีค่าที่ไม่ใช่ male/female หรือไม่\n",
    "allowed = {\"male\", \"female\"}\n",
    "unexpected_mask = ~g_norm.isin(allowed)\n",
    "\n",
    "print(f\"แถวทั้งหมด: {len(df)}\")\n",
    "print(f\"จำนวนที่ไม่ใช่ male/female: {unexpected_mask.sum()}\")\n",
    "\n",
    "# 4) ถ้าไม่มีค่าประหลาด → สร้างคอลัมน์ที่บังคับฟอร์แมตเรียบร้อย\n",
    "mapping = {\"male\": \"Male\", \"female\": \"Female\"}\n",
    "df[\"gender_clean\"] = g_norm.map(mapping)\n",
    "\n",
    "# ยืนยันผล\n",
    "print(\"\\nผ่านการตรวจ: gender มีเฉพาะ Male/Female เท่านั้น\")\n",
    "print(df[\"gender_clean\"].value_counts())\n"
   ]
  },
  {
   "cell_type": "code",
   "execution_count": 9,
   "id": "389f2408",
   "metadata": {},
   "outputs": [
    {
     "name": "stdout",
     "output_type": "stream",
     "text": [
      "[OF-1] Missing: 0 / 2111 rows (0.00%)\n",
      "[OF-2] ค่าตัวเลขที่พบ: [0, 1]\n"
     ]
    },
    {
     "data": {
      "application/vnd.microsoft.datawrangler.viewer.v0+json": {
       "columns": [
        {
         "name": "overweight_family",
         "rawType": "int64",
         "type": "integer"
        },
        {
         "name": "count",
         "rawType": "int64",
         "type": "integer"
        }
       ],
       "ref": "c2e414ca-1261-43b7-be25-9b1f7d71a467",
       "rows": [
        [
         "1",
         "1726"
        ],
        [
         "0",
         "385"
        ]
       ],
       "shape": {
        "columns": 1,
        "rows": 2
       }
      },
      "text/plain": [
       "overweight_family\n",
       "1    1726\n",
       "0     385\n",
       "Name: count, dtype: int64"
      ]
     },
     "metadata": {},
     "output_type": "display_data"
    }
   ],
   "source": [
    "# Step 3.6 - Clean overweight_family check missing + enforce format (0/1 integers only)\n",
    "\n",
    "_overweight_family_raw = df[\"overweight_family\"]\n",
    "\n",
    "# ================ check missing value ============\n",
    "is_missing = _overweight_family_raw.isna() | (_overweight_family_raw.astype(str).str.strip() == \"\")\n",
    "n_missing = int(is_missing.sum())\n",
    "total = len(df)\n",
    "print(f\"[OF-1] Missing: {n_missing} / {total} rows ({n_missing/total*100:.2f}%)\")\n",
    "\n",
    "# ================ check format ============\n",
    "\n",
    "num = pd.to_numeric(_overweight_family_raw, errors=\"coerce\")  # แปลงเป็นตัวเลขเพื่อเช็ค\n",
    "ok_mask = num.isin([0, 1])\n",
    "bad_mask = (~num.isna()) & (~ok_mask)\n",
    "\n",
    "unique_numeric = sorted(set(num.dropna().tolist()))\n",
    "print(f\"[OF-2] ค่าตัวเลขที่พบ: {unique_numeric}\")\n",
    "# `_overweight_family_raw` is a Series, so call value_counts() directly on it\n",
    "display(_overweight_family_raw.value_counts())\n",
    "\n",
    "# ============================\n",
    "    # ไม่มี Missing และค่าแปลก สามารถใช้ข้อมูลเดิมได้เลย"
   ]
  },
  {
   "cell_type": "code",
   "execution_count": 10,
   "id": "007e7bb2",
   "metadata": {},
   "outputs": [
    {
     "name": "stdout",
     "output_type": "stream",
     "text": [
      "[OF-1] Missing: 0 / 2111 rows (0.00%)\n",
      "[OF-2] ค่าตัวเลขที่พบ: [0, 1]\n"
     ]
    },
    {
     "data": {
      "application/vnd.microsoft.datawrangler.viewer.v0+json": {
       "columns": [
        {
         "name": "consum_cf",
         "rawType": "int64",
         "type": "integer"
        },
        {
         "name": "count",
         "rawType": "int64",
         "type": "integer"
        }
       ],
       "ref": "501dd4e9-bcf5-4d15-9da3-d128469d2356",
       "rows": [
        [
         "1",
         "1866"
        ],
        [
         "0",
         "245"
        ]
       ],
       "shape": {
        "columns": 1,
        "rows": 2
       }
      },
      "text/plain": [
       "consum_cf\n",
       "1    1866\n",
       "0     245\n",
       "Name: count, dtype: int64"
      ]
     },
     "metadata": {},
     "output_type": "display_data"
    }
   ],
   "source": [
    "# Step 3.6 - Clean consum_cf check missing + enforce format (0/1 integers only)\n",
    "consum_cf_raw = df[\"consum_cf\"]\n",
    "# ================ check missing value ============\n",
    "is_missing = consum_cf_raw.isna() | (consum_cf_raw.astype(str).str.strip() == \"\")\n",
    "n_missing = int(is_missing.sum())\n",
    "total = len(df)\n",
    "print(f\"[OF-1] Missing: {n_missing} / {total} rows ({n_missing/total*100:.2f}%)\")\n",
    "\n",
    "# ================ check format ============\n",
    "\n",
    "num = pd.to_numeric(consum_cf_raw, errors=\"coerce\")  # แปลงเป็นตัวเลขเพื่อเช็ค\n",
    "ok_mask = num.isin([0, 1])\n",
    "bad_mask = (~num.isna()) & (~ok_mask)\n",
    "\n",
    "unique_numeric = sorted(set(num.dropna().tolist()))\n",
    "print(f\"[OF-2] ค่าตัวเลขที่พบ: {unique_numeric}\")\n",
    "# `consum_cf_raw` is a Series, so call value_counts() directly on it\n",
    "display(consum_cf_raw.value_counts())\n",
    "\n",
    "# ============================\n",
    "    # ไม่มี Missing และค่าแปลก สามารถใช้ข้อมูลเดิมได้เลย"
   ]
  },
  {
   "cell_type": "code",
   "execution_count": 11,
   "id": "680e6263",
   "metadata": {},
   "outputs": [
    {
     "name": "stdout",
     "output_type": "stream",
     "text": [
      "[OF-1] Missing: 0 / 2111 rows (0.00%)\n",
      "[OF-2] ค่าตัวเลขที่พบ: [1.0, 1.003566, 1.005578, 1.00876, 1.031149, 1.036159, 1.036414, 1.052699, 1.053534, 1.063449, 1.064162, 1.067909, 1.078529, 1.081585, 1.0816, 1.096455, 1.108663, 1.116068, 1.118436, 1.122127, 1.123672, 1.123939, 1.133844, 1.140615, 1.142468, 1.164062, 1.168856, 1.188089, 1.202075, 1.203754, 1.204855, 1.206276, 1.212908, 1.21498, 1.220024, 1.261288, 1.263216, 1.264234, 1.270448, 1.276858, 1.27785, 1.289315, 1.303878, 1.306844, 1.31415, 1.317729, 1.321028, 1.3307, 1.34138, 1.344854, 1.362441, 1.368978, 1.369529, 1.387489, 1.392665, 1.397468, 1.412566, 1.428289, 1.431346, 1.443674, 1.450218, 1.451337, 1.452524, 1.455602, 1.457758, 1.469384, 1.475906, 1.482722, 1.4925, 1.492834, 1.517912, 1.518966, 1.521604, 1.522001, 1.524428, 1.528331, 1.537505, 1.557287, 1.562804, 1.567101, 1.570089, 1.572036, 1.57223, 1.585183, 1.588114, 1.588782, 1.592183, 1.595746, 1.601236, 1.617093, 1.620845, 1.624366, 1.626369, 1.631144, 1.642241, 1.649974, 1.650505, 1.653081, 1.655684, 1.687569, 1.69427, 1.70825, 1.712848, 1.718156, 1.729824, 1.735664, 1.750809, 1.75375, 1.754401, 1.757466, 1.758394, 1.760038, 1.766849, 1.771693, 1.773265, 1.780746, 1.786841, 1.794825, 1.800122, 1.813234, 1.826885, 1.834155, 1.836554, 1.83746, 1.84199, 1.851262, 1.853314, 1.868212, 1.871213, 1.874935, 1.878251, 1.880534, 1.882235, 1.887951, 1.889199, 1.889883, 1.893428, 1.897796, 1.899116, 1.899793, 1.901611, 1.904732, 1.906194, 1.910176, 1.918251, 1.924632, 1.925064, 1.936479, 1.94313, 1.947405, 1.947495, 1.950742, 1.952987, 1.961069, 1.961347, 1.963965, 1.967061, 1.972545, 1.973499, 1.975675, 1.977298, 1.979944, 1.989905, 1.99124, 1.992889, 1.993101, 1.994679, 1.996638, 1.996646, 1.99953, 2.0, 2.000466, 2.002076, 2.002564, 2.002784, 2.002796, 2.003951, 2.004146, 2.007845, 2.008245, 2.008656, 2.00876, 2.009952, 2.01054, 2.010684, 2.011656, 2.013782, 2.014194, 2.015258, 2.01695, 2.019674, 2.020502, 2.020785, 2.02091, 2.021446, 2.02472, 2.025479, 2.027574, 2.028225, 2.028571, 2.029634, 2.030256, 2.031185, 2.031246, 2.032883, 2.033745, 2.03414, 2.036613, 2.037042, 2.037585, 2.041376, 2.042762, 2.043359, 2.044326, 2.045027, 2.04516, 2.046651, 2.047069, 2.048216, 2.048582, 2.048962, 2.049112, 2.050619, 2.051283, 2.052152, 2.052932, 2.055209, 2.05687, 2.058687, 2.059138, 2.060922, 2.061384, 2.061461, 2.061952, 2.061969, 2.065752, 2.067817, 2.068834, 2.069267, 2.070964, 2.071622, 2.073224, 2.074843, 2.075321, 2.076689, 2.078082, 2.081238, 2.086093, 2.086898, 2.08841, 2.08868, 2.09283, 2.094184, 2.09449, 2.09663, 2.097373, 2.100177, 2.103335, 2.104105, 2.104772, 2.107854, 2.108163, 2.108638, 2.108711, 2.109162, 2.111887, 2.113843, 2.116432, 2.117121, 2.119643, 2.120185, 2.121909, 2.123159, 2.1239, 2.128574, 2.129668, 2.129969, 2.133955, 2.133964, 2.13683, 2.138334, 2.139196, 2.14084, 2.14128, 2.145114, 2.146598, 2.14961, 2.150054, 2.151335, 2.152264, 2.153639, 2.155182, 2.156065, 2.159033, 2.162519, 2.164062, 2.175276, 2.176317, 2.177243, 2.177896, 2.178308, 2.178889, 2.180047, 2.181057, 2.182401, 2.18354, 2.185938, 2.186322, 2.188722, 2.19005, 2.19011, 2.191108, 2.191429, 2.19331, 2.195964, 2.197261, 2.200588, 2.203962, 2.204914, 2.205439, 2.206119, 2.206276, 2.206399, 2.21232, 2.213135, 2.21498, 2.215464, 2.217267, 2.218599, 2.219186, 2.21965, 2.222282, 2.22259, 2.22399, 2.225149, 2.225731, 2.230742, 2.232836, 2.23372, 2.239634, 2.240757, 2.241606, 2.244142, 2.244654, 2.247037, 2.247704, 2.247795, 2.252382, 2.252472, 2.252653, 2.252698, 2.253371, 2.253707, 2.253998, 2.258795, 2.259679, 2.260543, 2.262171, 2.262292, 2.263245, 2.265973, 2.271306, 2.273548, 2.274164, 2.274491, 2.277077, 2.277436, 2.278644, 2.281963, 2.282803, 2.286146, 2.286481, 2.288604, 2.290095, 2.291846, 2.293705, 2.294067, 2.294259, 2.300408, 2.303041, 2.303367, 2.303656, 2.305349, 2.310423, 2.310751, 2.312528, 2.312825, 2.314175, 2.315932, 2.317459, 2.317734, 2.318355, 2.319648, 2.319776, 2.320201, 2.323003, 2.323351, 2.325623, 2.328469, 2.332074, 2.333503, 2.33361, 2.334474, 2.336044, 2.33998, 2.340405, 2.341133, 2.341999, 2.34222, 2.342323, 2.347942, 2.348745, 2.353603, 2.357496, 2.362918, 2.366949, 2.371338, 2.372494, 2.37464, 2.381164, 2.382705, 2.385502, 2.387426, 2.388168, 2.392179, 2.392665, 2.393837, 2.396265, 2.39728, 2.397284, 2.399531, 2.403421, 2.407817, 2.408561, 2.413156, 2.416044, 2.417635, 2.423291, 2.424977, 2.425503, 2.427689, 2.4277, 2.432302, 2.432355, 2.432886, 2.44004, 2.442536, 2.443538, 2.444599, 2.446872, 2.449267, 2.450218, 2.450784, 2.451009, 2.457547, 2.459976, 2.465575, 2.467002, 2.467548, 2.475892, 2.478891, 2.482575, 2.483979, 2.486189, 2.487167, 2.487781, 2.490507, 2.490776, 2.492758, 2.493448, 2.494451, 2.49619, 2.496455, 2.497548, 2.499108, 2.499388, 2.499626, 2.501224, 2.501236, 2.501683, 2.507841, 2.508835, 2.510583, 2.512719, 2.519592, 2.522183, 2.522399, 2.524428, 2.525884, 2.530066, 2.530233, 2.533605, 2.535154, 2.535315, 2.53915, 2.540949, 2.541785, 2.543563, 2.54527, 2.549782, 2.555401, 2.559571, 2.5596, 2.55996, 2.561638, 2.5621, 2.562409, 2.562687, 2.568063, 2.569075, 2.571274, 2.576449, 2.57649, 2.57691, 2.577427, 2.580872, 2.585942, 2.587789, 2.591292, 2.591439, 2.592247, 2.594653, 2.595128, 2.596364, 2.596579, 2.598051, 2.598207, 2.600217, 2.607335, 2.607747, 2.609123, 2.611222, 2.611847, 2.613249, 2.615788, 2.619835, 2.619987, 2.620963, 2.627031, 2.628791, 2.630137, 2.630401, 2.631565, 2.63165, 2.633855, 2.636719, 2.637202, 2.640801, 2.642744, 2.643183, 2.644094, 2.649406, 2.650629, 2.652779, 2.652958, 2.653721, 2.654076, 2.654792, 2.658112, 2.661556, 2.663421, 2.663866, 2.667229, 2.667676, 2.66889, 2.668949, 2.671238, 2.673638, 2.674431, 2.679664, 2.680375, 2.684335, 2.684528, 2.685484, 2.68601, 2.689577, 2.689929, 2.690754, 2.693859, 2.694281, 2.696381, 2.699282, 2.702457, 2.703436, 2.706134, 2.707666, 2.708965, 2.712747, 2.714447, 2.716909, 2.71897, 2.720701, 2.722161, 2.723953, 2.724121, 2.724285, 2.725282, 2.72989, 2.731368, 2.733129, 2.734314, 2.735297, 2.736298, 2.736628, 2.736647, 2.73691, 2.737149, 2.737762, 2.739, 2.740633, 2.742796, 2.744994, 2.746408, 2.748243, 2.748971, 2.749268, 2.749629, 2.750715, 2.753752, 2.754645, 2.754646, 2.758394, 2.759286, 2.760607, 2.762325, 2.765063, 2.76533, 2.765769, 2.766036, 2.76632, 2.766441, 2.766612, 2.767731, 2.76802, 2.772027, 2.774562, 2.777165, 2.778079, 2.780699, 2.784383, 2.784464, 2.784471, 2.786008, 2.787589, 2.79166, 2.793561, 2.794197, 2.795086, 2.79606, 2.801514, 2.801992, 2.802128, 2.802696, 2.805512, 2.805533, 2.808027, 2.813775, 2.814453, 2.815157, 2.81646, 2.818502, 2.819934, 2.821727, 2.821977, 2.823179, 2.824559, 2.826036, 2.826251, 2.836055, 2.838037, 2.838969, 2.839048, 2.842102, 2.843456, 2.843709, 2.844607, 2.845961, 2.846452, 2.846981, 2.851664, 2.853513, 2.8557, 2.859097, 2.85916, 2.86099, 2.864776, 2.866383, 2.869436, 2.869778, 2.869833, 2.870152, 2.870895, 2.871016, 2.871137, 2.871768, 2.872121, 2.87599, 2.877743, 2.880161, 2.880483, 2.880759, 2.880792, 2.8813, 2.882522, 2.883745, 2.884212, 2.885178, 2.885693, 2.886157, 2.88626, 2.88853, 2.889485, 2.890535, 2.896562, 2.897899, 2.901924, 2.902469, 2.903545, 2.906269, 2.907062, 2.907542, 2.907744, 2.908757, 2.909853, 2.910345, 2.910733, 2.911312, 2.911877, 2.913452, 2.913486, 2.915279, 2.91548, 2.918113, 2.919526, 2.919584, 2.919751, 2.921225, 2.921576, 2.922511, 2.923433, 2.923916, 2.92711, 2.927187, 2.927218, 2.927409, 2.928234, 2.929889, 2.934671, 2.935157, 2.938031, 2.938616, 2.938687, 2.938801, 2.939727, 2.941627, 2.941929, 2.942154, 2.943749, 2.944287, 2.945967, 2.948248, 2.948425, 2.949242, 2.95118, 2.951591, 2.954417, 2.954996, 2.9553, 2.956297, 2.956671, 2.95801, 2.95841, 2.959658, 2.96008, 2.962415, 2.96405, 2.964319, 2.964419, 2.966126, 2.9673, 2.967853, 2.969205, 2.969233, 2.970983, 2.971351, 2.971574, 2.971588, 2.972426, 2.973569, 2.974006, 2.976509, 2.976975, 2.977018, 2.977585, 2.979383, 2.983042, 2.983851, 2.984004, 2.984425, 2.987148, 2.992205, 2.992329, 2.99448, 2.995599, 2.996186, 2.996717, 2.997524, 2.997951, 2.998441, 3.0]\n",
      "หลังทำความสะอาด\n"
     ]
    },
    {
     "data": {
      "application/vnd.microsoft.datawrangler.viewer.v0+json": {
       "columns": [
        {
         "name": "consum_vf_clean",
         "rawType": "int64",
         "type": "integer"
        },
        {
         "name": "count",
         "rawType": "int64",
         "type": "integer"
        }
       ],
       "ref": "9a35b7b4-c224-492c-97b2-7af9603d94ce",
       "rows": [
        [
         "2",
         "1257"
        ],
        [
         "3",
         "652"
        ],
        [
         "1",
         "202"
        ]
       ],
       "shape": {
        "columns": 1,
        "rows": 3
       }
      },
      "text/plain": [
       "consum_vf_clean\n",
       "2    1257\n",
       "3     652\n",
       "1     202\n",
       "Name: count, dtype: int64"
      ]
     },
     "metadata": {},
     "output_type": "display_data"
    }
   ],
   "source": [
    "# Step 3.7 - Clean consum_vf check missing + enforce format rank 1-3 integers only\n",
    "\n",
    "consum_vf_raw = df[\"consum_vf\"]\n",
    "\n",
    "# ================ check missing value ============\n",
    "\n",
    "is_missing = consum_vf_raw.isna() | (consum_vf_raw.astype(str).str.strip() == \"\")\n",
    "n_missing = int(is_missing.sum())\n",
    "total = len(df)\n",
    "print(f\"[OF-1] Missing: {n_missing} / {total} rows ({n_missing/total*100:.2f}%)\")\n",
    "\n",
    "# ================ check format ============\n",
    "\n",
    "num = pd.to_numeric(consum_vf_raw, errors=\"coerce\")  # แปลงเป็นตัวเลขเพื่อเช็ค\n",
    "ok_mask = num.isin([1, 2, 3])\n",
    "bad_mask = (~num.isna()) & (~ok_mask)\n",
    "\n",
    "unique_numeric = sorted(set(num.dropna().tolist()))\n",
    "print(f\"[OF-2] ค่าตัวเลขที่พบ: {unique_numeric}\")\n",
    "# `consum_vf_raw` is a Series, so call value_counts() directly on it\n",
    "\n",
    "# ================ convert to int ============\n",
    "\n",
    "consum_vf_clean = df[\"consum_vf_clean\"] = consum_vf_raw.astype(int)\n",
    "print(\"หลังทำความสะอาด\")\n",
    "display(df[\"consum_vf_clean\"].value_counts())\n",
    "\n"
   ]
  },
  {
   "cell_type": "code",
   "execution_count": 12,
   "id": "39121d29",
   "metadata": {},
   "outputs": [
    {
     "name": "stdout",
     "output_type": "stream",
     "text": [
      "[OF-1] Missing: 0 / 2111 rows (0.00%)\n",
      "[OF-2] ค่าตัวเลขที่พบ: [1.0, 1.000283, 1.000414, 1.00061, 1.001383, 1.001542, 1.001633, 1.005391, 1.009426, 1.010319, 1.014916, 1.015488, 1.02075, 1.030416, 1.032887, 1.044628, 1.046144, 1.047197, 1.049534, 1.058123, 1.060796, 1.068196, 1.068443, 1.073421, 1.075553, 1.077331, 1.07976, 1.081805, 1.082304, 1.08687, 1.089048, 1.095223, 1.097312, 1.09749, 1.099151, 1.101404, 1.104642, 1.10548, 1.105617, 1.109956, 1.114564, 1.116401, 1.120102, 1.124977, 1.130751, 1.131695, 1.134042, 1.134321, 1.135278, 1.13715, 1.139317, 1.146052, 1.146794, 1.152521, 1.154318, 1.163666, 1.169173, 1.171027, 1.178708, 1.193589, 1.193729, 1.194815, 1.198643, 1.202179, 1.211606, 1.213431, 1.226342, 1.231915, 1.237454, 1.240046, 1.240424, 1.24884, 1.250548, 1.25535, 1.259628, 1.259803, 1.262831, 1.265463, 1.271624, 1.273128, 1.2919, 1.293342, 1.296156, 1.311797, 1.313403, 1.317884, 1.320768, 1.322087, 1.326982, 1.338033, 1.340361, 1.343117, 1.346987, 1.355354, 1.355752, 1.374791, 1.391778, 1.394539, 1.402771, 1.411685, 1.411808, 1.416309, 1.418833, 1.418985, 1.437959, 1.458507, 1.466393, 1.468948, 1.471053, 1.473088, 1.474836, 1.476204, 1.477581, 1.478334, 1.482103, 1.487674, 1.496776, 1.508685, 1.513835, 1.532833, 1.546665, 1.548407, 1.555557, 1.569176, 1.578521, 1.578751, 1.590982, 1.599464, 1.600812, 1.612747, 1.619796, 1.627555, 1.630506, 1.630846, 1.631184, 1.660768, 1.66338, 1.672706, 1.672751, 1.672958, 1.680838, 1.685134, 1.69608, 1.703299, 1.704828, 1.706551, 1.709546, 1.713762, 1.717608, 1.724887, 1.72626, 1.729553, 1.734762, 1.735493, 1.73762, 1.773916, 1.782109, 1.792695, 1.79558, 1.802305, 1.80993, 1.81698, 1.818026, 1.820779, 1.834472, 1.835543, 1.836226, 1.845858, 1.851088, 1.854536, 1.863012, 1.865238, 1.867836, 1.873484, 1.874532, 1.882158, 1.888067, 1.890213, 1.893811, 1.894384, 1.9154, 1.91863, 1.923607, 1.924168, 1.92822, 1.941307, 1.94671, 1.971472, 1.971659, 1.974233, 1.976744, 1.977221, 1.989398, 1.999014, 2.000986, 2.014671, 2.015675, 2.029858, 2.036794, 2.038373, 2.040582, 2.041558, 2.044035, 2.049565, 2.049908, 2.050121, 2.057935, 2.070033, 2.0846, 2.092179, 2.093831, 2.100918, 2.105616, 2.10601, 2.110937, 2.113575, 2.116195, 2.118153, 2.119682, 2.119826, 2.120936, 2.122545, 2.123138, 2.127797, 2.129909, 2.13229, 2.137068, 2.138375, 2.141839, 2.142328, 2.152733, 2.157164, 2.164839, 2.174968, 2.175153, 2.175432, 2.18162, 2.187145, 2.209314, 2.217651, 2.218285, 2.228113, 2.256119, 2.269799, 2.270163, 2.271734, 2.272214, 2.272801, 2.27374, 2.278652, 2.279546, 2.280545, 2.282392, 2.283673, 2.298612, 2.301129, 2.326233, 2.337035, 2.339614, 2.358298, 2.358455, 2.371658, 2.372311, 2.372339, 2.372705, 2.375026, 2.376374, 2.378211, 2.37985, 2.39007, 2.391753, 2.392811, 2.395785, 2.400943, 2.401341, 2.415522, 2.419656, 2.427137, 2.434347, 2.443812, 2.449067, 2.449723, 2.454432, 2.463113, 2.468421, 2.473911, 2.475228, 2.475444, 2.478794, 2.488189, 2.491315, 2.510135, 2.521546, 2.52751, 2.547086, 2.562895, 2.567567, 2.57038, 2.574108, 2.579291, 2.581015, 2.582591, 2.590283, 2.59257, 2.595126, 2.597608, 2.598079, 2.601675, 2.604998, 2.608055, 2.608416, 2.622055, 2.623079, 2.625475, 2.625942, 2.627173, 2.64155, 2.644692, 2.645858, 2.646717, 2.650088, 2.655265, 2.656588, 2.65772, 2.658478, 2.658639, 2.658837, 2.6648, 2.667711, 2.669766, 2.675411, 2.676148, 2.677693, 2.679724, 2.683061, 2.687502, 2.692889, 2.693646, 2.695396, 2.696051, 2.698883, 2.701521, 2.701689, 2.705445, 2.711238, 2.714115, 2.716106, 2.720642, 2.725012, 2.733077, 2.735706, 2.737571, 2.740492, 2.741413, 2.743277, 2.749334, 2.752318, 2.753418, 2.756405, 2.756622, 2.762883, 2.765213, 2.77684, 2.779379, 2.783336, 2.791366, 2.794156, 2.7976, 2.799979, 2.805436, 2.806298, 2.806341, 2.806566, 2.80742, 2.809716, 2.812283, 2.812377, 2.815255, 2.831771, 2.832018, 2.834253, 2.837388, 2.842035, 2.842848, 2.843319, 2.844138, 2.845307, 2.849347, 2.849848, 2.850948, 2.853676, 2.857787, 2.865657, 2.870005, 2.870661, 2.87747, 2.877583, 2.879541, 2.880794, 2.880817, 2.883984, 2.884479, 2.884848, 2.888193, 2.89292, 2.893778, 2.894142, 2.900915, 2.902639, 2.902766, 2.909117, 2.911568, 2.915921, 2.918124, 2.920373, 2.930044, 2.933409, 2.935381, 2.937607, 2.937989, 2.938135, 2.938902, 2.946063, 2.948721, 2.951837, 2.952821, 2.954446, 2.956422, 2.95833, 2.961113, 2.961192, 2.961706, 2.962004, 2.964024, 2.965494, 2.966803, 2.967089, 2.968098, 2.970675, 2.973476, 2.973504, 2.974204, 2.974568, 2.975362, 2.976098, 2.976211, 2.9774, 2.977543, 2.977909, 2.977999, 2.978103, 2.9796, 2.98212, 2.983201, 2.983297, 2.984523, 2.986172, 2.986637, 2.987652, 2.988539, 2.989112, 2.989791, 2.992083, 2.992606, 2.992903, 2.993084, 2.99321, 2.993623, 2.993634, 2.993856, 2.994046, 2.994198, 2.9948, 2.996444, 2.996834, 2.997414, 2.999346, 3.0, 3.000974, 3.014808, 3.03779, 3.042774, 3.047959, 3.051804, 3.053598, 3.054899, 3.058539, 3.070386, 3.071028, 3.087119, 3.087544, 3.092116, 3.095663, 3.098399, 3.105007, 3.11158, 3.118013, 3.12544, 3.129155, 3.131032, 3.156153, 3.156309, 3.165837, 3.16645, 3.169089, 3.171082, 3.179995, 3.193671, 3.196043, 3.205009, 3.205587, 3.207071, 3.209508, 3.21043, 3.219347, 3.220181, 3.238258, 3.240578, 3.245148, 3.24934, 3.250467, 3.263201, 3.266501, 3.266644, 3.269088, 3.281391, 3.285167, 3.286431, 3.28926, 3.292386, 3.292956, 3.300666, 3.304123, 3.30846, 3.322522, 3.335876, 3.339914, 3.34175, 3.362758, 3.36313, 3.370362, 3.371832, 3.376717, 3.378859, 3.390143, 3.394788, 3.409363, 3.420618, 3.433908, 3.435905, 3.443456, 3.45259, 3.471536, 3.483449, 3.488342, 3.489918, 3.494849, 3.502604, 3.520555, 3.53009, 3.531038, 3.535016, 3.546352, 3.554974, 3.558637, 3.559841, 3.563744, 3.56544, 3.566082, 3.576103, 3.590039, 3.592415, 3.595761, 3.60885, 3.612941, 3.618722, 3.623364, 3.626815, 3.642802, 3.647154, 3.648194, 3.654061, 3.656401, 3.691226, 3.697831, 3.699594, 3.712183, 3.714833, 3.715118, 3.715148, 3.715306, 3.725797, 3.728377, 3.731212, 3.732126, 3.734323, 3.737914, 3.747163, 3.754599, 3.755976, 3.762778, 3.765526, 3.770379, 3.788602, 3.804944, 3.821168, 3.821461, 3.829101, 3.832911, 3.856434, 3.884861, 3.887906, 3.891994, 3.897078, 3.904858, 3.90779, 3.914454, 3.937099, 3.950553, 3.96981, 3.981997, 3.98525, 3.985442, 3.986652, 3.987707, 3.989492, 3.98955, 3.990925, 3.994588, 3.995147, 3.995957, 3.998618, 3.998766, 3.999591, 4.0]\n",
      "\n",
      "หลังทำความสะอาด\n"
     ]
    },
    {
     "data": {
      "application/vnd.microsoft.datawrangler.viewer.v0+json": {
       "columns": [
        {
         "name": "consum_daily_clean",
         "rawType": "int64",
         "type": "integer"
        },
        {
         "name": "count",
         "rawType": "int64",
         "type": "integer"
        }
       ],
       "ref": "319551b1-1ee3-4875-a791-daa4af1d25b3",
       "rows": [
        [
         "3",
         "1362"
        ],
        [
         "1",
         "395"
        ],
        [
         "2",
         "285"
        ],
        [
         "4",
         "69"
        ]
       ],
       "shape": {
        "columns": 1,
        "rows": 4
       }
      },
      "text/plain": [
       "consum_daily_clean\n",
       "3    1362\n",
       "1     395\n",
       "2     285\n",
       "4      69\n",
       "Name: count, dtype: int64"
      ]
     },
     "metadata": {},
     "output_type": "display_data"
    }
   ],
   "source": [
    "# Step 3.8 - Clean comsum_daily check missing + enforce format rank 1-4 integers only\n",
    "\n",
    "consum_daily_raw = df[\"comsum_daily\"]\n",
    "\n",
    "# ================ check missing value ============\n",
    "\n",
    "is_missing = consum_daily_raw.isna() | (consum_daily_raw.astype(str).str.strip() == \"\")\n",
    "n_missing = int(is_missing.sum())\n",
    "total = len(df)\n",
    "print(f\"[OF-1] Missing: {n_missing} / {total} rows ({n_missing/total*100:.2f}%)\")\n",
    "\n",
    "# ================ check format ============\n",
    "num = pd.to_numeric(consum_daily_raw, errors=\"coerce\")  # แปลงเป็นตัวเลขเพื่อเช็ค\n",
    "ok_mask = num.isin([1, 2, 3, 4])\n",
    "bad_mask = (~num.isna()) & (~ok_mask)\n",
    "\n",
    "unique_numeric = sorted(set(num.dropna().tolist()))\n",
    "print(f\"[OF-2] ค่าตัวเลขที่พบ: {unique_numeric}\")\n",
    "# `consum_daily_raw` is a Series, so call value_counts() directly on it\n",
    "\n",
    "# ================ convert to int ============\n",
    "\n",
    "consum_daily_clean = df[\"consum_daily_clean\"] = consum_daily_raw.astype(int)\n",
    "print(\"\\nหลังทำความสะอาด\")\n",
    "display(df[\"consum_daily_clean\"].value_counts())\n",
    "\n",
    "\n"
   ]
  },
  {
   "cell_type": "code",
   "execution_count": 13,
   "id": "5f4511f6",
   "metadata": {},
   "outputs": [
    {
     "name": "stdout",
     "output_type": "stream",
     "text": [
      "[OF-1] Missing: 0 / 2111 rows (0.00%)\n"
     ]
    },
    {
     "data": {
      "application/vnd.microsoft.datawrangler.viewer.v0+json": {
       "columns": [
        {
         "name": "consum_other",
         "rawType": "object",
         "type": "string"
        },
        {
         "name": "count",
         "rawType": "int64",
         "type": "integer"
        }
       ],
       "ref": "1f803dc3-6ca8-429c-9233-876fcba26584",
       "rows": [
        [
         "Sometimes",
         "1765"
        ],
        [
         "Frequently",
         "242"
        ],
        [
         "Always",
         "53"
        ],
        [
         "no",
         "51"
        ]
       ],
       "shape": {
        "columns": 1,
        "rows": 4
       }
      },
      "text/plain": [
       "consum_other\n",
       "Sometimes     1765\n",
       "Frequently     242\n",
       "Always          53\n",
       "no              51\n",
       "Name: count, dtype: int64"
      ]
     },
     "metadata": {},
     "output_type": "display_data"
    }
   ],
   "source": [
    "# Step 3.9 - Clean consum_other check missing + enforce format (Sometimes, Frequency, Always, no)\n",
    "consum_other_raw = df[\"consum_other\"]\n",
    "# ================ check missing value ============\n",
    "\n",
    "is_missing = consum_other_raw.isna() | (consum_other_raw.astype(str).str.strip() == \"\")\n",
    "n_missing = int(is_missing.sum())\n",
    "total = len(df)\n",
    "print(f\"[OF-1] Missing: {n_missing} / {total} rows ({n_missing/total*100:.2f}%)\")\n",
    "\n",
    "display(consum_other_raw.value_counts())"
   ]
  },
  {
   "cell_type": "code",
   "execution_count": 14,
   "id": "77fc680e",
   "metadata": {},
   "outputs": [
    {
     "name": "stdout",
     "output_type": "stream",
     "text": [
      "[OF-1] Missing: 0 / 2111 rows (0.00%)\n"
     ]
    },
    {
     "data": {
      "application/vnd.microsoft.datawrangler.viewer.v0+json": {
       "columns": [
        {
         "name": "smoking",
         "rawType": "object",
         "type": "string"
        },
        {
         "name": "count",
         "rawType": "int64",
         "type": "integer"
        }
       ],
       "ref": "a2101e90-1708-435f-8004-ef9a89f4743a",
       "rows": [
        [
         "no",
         "2067"
        ],
        [
         "yes",
         "44"
        ]
       ],
       "shape": {
        "columns": 1,
        "rows": 2
       }
      },
      "text/plain": [
       "smoking\n",
       "no     2067\n",
       "yes      44\n",
       "Name: count, dtype: int64"
      ]
     },
     "metadata": {},
     "output_type": "display_data"
    }
   ],
   "source": [
    "# Step 3.10 - Clean smoking check missing + enforce format ( yes / no )\n",
    "smoking_raw = df[\"smoking\"]\n",
    "\n",
    "# ================ check missing value ============\n",
    "is_missing = smoking_raw.isna() | (smoking_raw.astype(str).str.strip() == \"\")\n",
    "n_missing = int(is_missing.sum())\n",
    "total = len(df)\n",
    "print(f\"[OF-1] Missing: {n_missing} / {total} rows ({n_missing/total*100:.2f}%)\")\n",
    "\n",
    "display(smoking_raw.value_counts())\n",
    "\n"
   ]
  },
  {
   "cell_type": "code",
   "execution_count": 15,
   "id": "2427cb2f",
   "metadata": {},
   "outputs": [
    {
     "name": "stdout",
     "output_type": "stream",
     "text": [
      "[OF-1] Missing: 0 / 2111 rows (0.00%)\n"
     ]
    },
    {
     "data": {
      "application/vnd.microsoft.datawrangler.viewer.v0+json": {
       "columns": [
        {
         "name": "consum_water",
         "rawType": "float64",
         "type": "float"
        },
        {
         "name": "count",
         "rawType": "int64",
         "type": "integer"
        }
       ],
       "ref": "9d16ff8f-6817-43cd-8e56-5b10ea63e708",
       "rows": [
        [
         "2.0",
         "448"
        ],
        [
         "1.0",
         "211"
        ],
        [
         "3.0",
         "162"
        ],
        [
         "1.636326",
         "3"
        ],
        [
         "2.825629",
         "3"
        ],
        [
         "1.876915",
         "2"
        ],
        [
         "2.450069",
         "2"
        ],
        [
         "1.490613",
         "2"
        ],
        [
         "2.115967",
         "2"
        ],
        [
         "2.13755",
         "2"
        ],
        [
         "1.179942",
         "2"
        ],
        [
         "1.229915",
         "2"
        ],
        [
         "2.426465",
         "2"
        ],
        [
         "1.656082",
         "2"
        ],
        [
         "1.984323",
         "2"
        ],
        [
         "2.843777",
         "2"
        ],
        [
         "1.439962",
         "2"
        ],
        [
         "2.174248",
         "2"
        ],
        [
         "2.371015",
         "2"
        ],
        [
         "2.530035",
         "2"
        ],
        [
         "2.184707",
         "2"
        ],
        [
         "2.406541",
         "2"
        ],
        [
         "2.444125",
         "2"
        ],
        [
         "2.654702",
         "2"
        ],
        [
         "2.147746",
         "2"
        ],
        [
         "1.031354",
         "2"
        ],
        [
         "2.320068",
         "1"
        ],
        [
         "1.650612",
         "1"
        ],
        [
         "1.610768",
         "1"
        ],
        [
         "1.796267",
         "1"
        ],
        [
         "1.728139",
         "1"
        ],
        [
         "2.00513",
         "1"
        ],
        [
         "2.054193",
         "1"
        ],
        [
         "2.852339",
         "1"
        ],
        [
         "1.792022",
         "1"
        ],
        [
         "2.074048",
         "1"
        ],
        [
         "2.456581",
         "1"
        ],
        [
         "1.527036",
         "1"
        ],
        [
         "1.322669",
         "1"
        ],
        [
         "1.569082",
         "1"
        ],
        [
         "2.650989",
         "1"
        ],
        [
         "2.027984",
         "1"
        ],
        [
         "1.253803",
         "1"
        ],
        [
         "1.298165",
         "1"
        ],
        [
         "1.632004",
         "1"
        ],
        [
         "2.099863",
         "1"
        ],
        [
         "1.86393",
         "1"
        ],
        [
         "1.049134",
         "1"
        ],
        [
         "1.530531",
         "1"
        ],
        [
         "2.721769",
         "1"
        ]
       ],
       "shape": {
        "columns": 1,
        "rows": 1268
       }
      },
      "text/plain": [
       "consum_water\n",
       "2.000000    448\n",
       "1.000000    211\n",
       "3.000000    162\n",
       "1.636326      3\n",
       "2.825629      3\n",
       "           ... \n",
       "2.722276      1\n",
       "2.634342      1\n",
       "2.619390      1\n",
       "2.786780      1\n",
       "2.863513      1\n",
       "Name: count, Length: 1268, dtype: int64"
      ]
     },
     "metadata": {},
     "output_type": "display_data"
    },
    {
     "name": "stdout",
     "output_type": "stream",
     "text": [
      "\n",
      "หลังทำความสะอาด\n"
     ]
    },
    {
     "data": {
      "application/vnd.microsoft.datawrangler.viewer.v0+json": {
       "columns": [
        {
         "name": "consum_water",
         "rawType": "int64",
         "type": "integer"
        },
        {
         "name": "count",
         "rawType": "int64",
         "type": "integer"
        }
       ],
       "ref": "184bb153-a0ef-4691-9a23-f1bde7bd7386",
       "rows": [
        [
         "2",
         "1180"
        ],
        [
         "1",
         "769"
        ],
        [
         "3",
         "162"
        ]
       ],
       "shape": {
        "columns": 1,
        "rows": 3
       }
      },
      "text/plain": [
       "consum_water\n",
       "2    1180\n",
       "1     769\n",
       "3     162\n",
       "Name: count, dtype: int64"
      ]
     },
     "metadata": {},
     "output_type": "display_data"
    }
   ],
   "source": [
    "# Step 3.10 - Clean consum_water check missing + enforce format (1-3 integers only)\n",
    "consum_water_raw = df[\"consum_water\"]\n",
    "# ================ check missing value ============\n",
    "\n",
    "is_missing = consum_water_raw.isna() | (consum_water_raw.astype(str).str.strip() == \"\")\n",
    "n_missing = int(is_missing.sum())\n",
    "total = len(df)\n",
    "print(f\"[OF-1] Missing: {n_missing} / {total} rows ({n_missing/total*100:.2f}%)\")\n",
    "\n",
    "display(consum_water_raw.value_counts())\n",
    "\n",
    "# ================= Convert to int format ============\n",
    "\n",
    "consum_water_clean = df[\"consum_water\"] = consum_water_raw.astype(int)\n",
    "print(\"\\nหลังทำความสะอาด\")\n",
    "display(consum_water_clean.value_counts())\n"
   ]
  },
  {
   "cell_type": "code",
   "execution_count": 16,
   "id": "7fd2f5a1",
   "metadata": {},
   "outputs": [
    {
     "data": {
      "text/plain": [
       "'[OF-1] Missing: 0 / 2111 rows (0.00%)'"
      ]
     },
     "metadata": {},
     "output_type": "display_data"
    },
    {
     "data": {
      "application/vnd.microsoft.datawrangler.viewer.v0+json": {
       "columns": [
        {
         "name": "cal_monitoring",
         "rawType": "object",
         "type": "string"
        },
        {
         "name": "count",
         "rawType": "int64",
         "type": "integer"
        }
       ],
       "ref": "88d7d825-9581-4a8a-adcf-ea179c7f6cd1",
       "rows": [
        [
         "no",
         "2015"
        ],
        [
         "yes",
         "96"
        ]
       ],
       "shape": {
        "columns": 1,
        "rows": 2
       }
      },
      "text/plain": [
       "cal_monitoring\n",
       "no     2015\n",
       "yes      96\n",
       "Name: count, dtype: int64"
      ]
     },
     "metadata": {},
     "output_type": "display_data"
    }
   ],
   "source": [
    "# Step 3.11 - Clean cal_monitoring check missing + enforce format (yes / no)\n",
    "cal_monitoring_raw = df[\"cal_monitoring\"]\n",
    "\n",
    "# ================ check missing value ============\n",
    "\n",
    "is_missing = cal_monitoring_raw.isna() | (cal_monitoring_raw.astype(str).str.strip() == \"\")\n",
    "n_missing = int(is_missing.sum())   \n",
    "total = len(df)\n",
    "display(f\"[OF-1] Missing: {n_missing} / {total} rows ({n_missing/total*100:.2f}%)\")\n",
    "\n",
    "display(cal_monitoring_raw.value_counts())"
   ]
  },
  {
   "cell_type": "code",
   "execution_count": 17,
   "id": "76e737da",
   "metadata": {},
   "outputs": [
    {
     "data": {
      "text/plain": [
       "'[OF-1] Missing: 5 / 2111 rows (0.24%)'"
      ]
     },
     "metadata": {},
     "output_type": "display_data"
    },
    {
     "name": "stdout",
     "output_type": "stream",
     "text": [
      "[PA] ใช้ค่าเติม (impute): 0\n",
      "\n",
      "[PA] Value counts หลังทำความสะอาด (ควรเห็นแค่ 1,2,3):\n"
     ]
    },
    {
     "data": {
      "application/vnd.microsoft.datawrangler.viewer.v0+json": {
       "columns": [
        {
         "name": "phyical_activity_clean",
         "rawType": "int64",
         "type": "integer"
        },
        {
         "name": "count",
         "rawType": "int64",
         "type": "integer"
        }
       ],
       "ref": "f9d02574-9483-43d6-b8cd-b1c23f3d9568",
       "rows": [
        [
         "1",
         "1497"
        ],
        [
         "2",
         "495"
        ],
        [
         "3",
         "119"
        ]
       ],
       "shape": {
        "columns": 1,
        "rows": 3
       }
      },
      "text/plain": [
       "phyical_activity_clean\n",
       "1    1497\n",
       "2     495\n",
       "3     119\n",
       "Name: count, dtype: int64"
      ]
     },
     "metadata": {},
     "output_type": "display_data"
    },
    {
     "name": "stdout",
     "output_type": "stream",
     "text": [
      "\n",
      "[PA] จำนวนแถวที่ถูกเติมค่า (imputed_flag=1): 5\n",
      "[PA] ตัวอย่าง index ที่ถูกเติม: [10, 68, 82, 120, 125]\n"
     ]
    }
   ],
   "source": [
    "# Step 3.12 - Clean physical_activity check missing + enforce format (1-3 integers only)\n",
    "physical_activity_raw = df[\"phyical_activity\"]\n",
    "\n",
    "# ================ check missing value ============\n",
    "\n",
    "is_missing = physical_activity_raw.isna() | (physical_activity_raw.astype(str).str.strip() == \"\")\n",
    "n_missing = int(is_missing.sum())   \n",
    "total = len(df)\n",
    "display(f\"[OF-1] Missing: {n_missing} / {total} rows ({n_missing/total*100:.2f}%)\")\n",
    "\n",
    "\n",
    "ser = pd.to_numeric(df[\"phyical_activity\"], errors=\"coerce\")\n",
    "\n",
    "mode_vals = ser.mode(dropna=True)\n",
    "impute_val = int(round(mode_vals.iloc[0])) if len(mode_vals) else 2\n",
    "print(f\"[PA] ใช้ค่าเติม (impute): {impute_val}\")\n",
    "\n",
    "ser_round = np.rint(ser).astype(float)           # ปัดค่าที่ไม่ใช่จำนวนเต็ม\n",
    "ser_round[is_missing] = impute_val             # เติม missing\n",
    "clean = np.clip(ser_round, 1, 3).astype(int)\n",
    "\n",
    "\n",
    "# บังคับช่วงและชนิดข้อมูล\n",
    "df[\"phyical_activity\" + \"_clean\"] = clean\n",
    "df[\"phyical_activity\" + \"_imputed_flag\"] = is_missing.astype(int)  # 1=เคยเติม, 0=ไม่เติม\n",
    "\n",
    "# 6) รายงานผล\n",
    "print(\"\\n[PA] Value counts หลังทำความสะอาด (ควรเห็นแค่ 1,2,3):\")\n",
    "display(df[\"phyical_activity\" + \"_clean\"].value_counts().sort_index())\n",
    "print(\"\\n[PA] จำนวนแถวที่ถูกเติมค่า (imputed_flag=1):\", int(df[\"phyical_activity\" + \"_imputed_flag\"].sum()))\n",
    "print(\"[PA] ตัวอย่าง index ที่ถูกเติม:\", df.index[is_missing].tolist()[:10])\n",
    "\n",
    "physical_activity_clean = df[\"phyical_activity\" + \"_clean\"]\n"
   ]
  },
  {
   "cell_type": "code",
   "execution_count": 18,
   "id": "9c063cc5",
   "metadata": {},
   "outputs": [
    {
     "name": "stdout",
     "output_type": "stream",
     "text": [
      "[OF-1] Missing: 0 / 2111 rows (0.00%)\n",
      "\n",
      "หลังทำความสะอาด\n"
     ]
    },
    {
     "data": {
      "application/vnd.microsoft.datawrangler.viewer.v0+json": {
       "columns": [
        {
         "name": "device_usage",
         "rawType": "int64",
         "type": "integer"
        },
        {
         "name": "count",
         "rawType": "int64",
         "type": "integer"
        }
       ],
       "ref": "d50f4dde-33b1-43cd-9ffa-901fcbb34723",
       "rows": [
        [
         "0",
         "1415"
        ],
        [
         "1",
         "587"
        ],
        [
         "2",
         "109"
        ]
       ],
       "shape": {
        "columns": 1,
        "rows": 3
       }
      },
      "text/plain": [
       "device_usage\n",
       "0    1415\n",
       "1     587\n",
       "2     109\n",
       "Name: count, dtype: int64"
      ]
     },
     "metadata": {},
     "output_type": "display_data"
    }
   ],
   "source": [
    "# Step 3.13 - Clean device_usage check missing + enforce format (0-2 integers only)\n",
    "\n",
    "device_usage_raw = df[\"device_usage\"]\n",
    "\n",
    "# ================ check missing value ============\n",
    "\n",
    "is_missing = device_usage_raw.isna() | (device_usage_raw.astype(str).str.strip() == \"\")\n",
    "n_missing = int(is_missing.sum())\n",
    "total = len(df)\n",
    "print(f\"[OF-1] Missing: {n_missing} / {total} rows ({n_missing/total*100:.2f}%)\")\n",
    "\n",
    "# ================ Conform format ============\n",
    "\n",
    "device_usage_clean = df[\"device_usage\"] = device_usage_raw.astype(int)\n",
    "print(\"\\nหลังทำความสะอาด\")\n",
    "display(device_usage_clean.value_counts())"
   ]
  },
  {
   "cell_type": "code",
   "execution_count": 19,
   "id": "ac57693e",
   "metadata": {},
   "outputs": [
    {
     "name": "stdout",
     "output_type": "stream",
     "text": [
      "[OF-1] Missing: 0 / 2111 rows (0.00%)\n"
     ]
    },
    {
     "data": {
      "application/vnd.microsoft.datawrangler.viewer.v0+json": {
       "columns": [
        {
         "name": "consum_alchohol",
         "rawType": "object",
         "type": "string"
        },
        {
         "name": "count",
         "rawType": "int64",
         "type": "integer"
        }
       ],
       "ref": "95daf238-d3a9-49b0-bd94-e548b588c11f",
       "rows": [
        [
         "Sometimes",
         "1401"
        ],
        [
         "no",
         "639"
        ],
        [
         "Frequently",
         "70"
        ],
        [
         "Always",
         "1"
        ]
       ],
       "shape": {
        "columns": 1,
        "rows": 4
       }
      },
      "text/plain": [
       "consum_alchohol\n",
       "Sometimes     1401\n",
       "no             639\n",
       "Frequently      70\n",
       "Always           1\n",
       "Name: count, dtype: int64"
      ]
     },
     "metadata": {},
     "output_type": "display_data"
    }
   ],
   "source": [
    "# step 3.14 Clean consum_alchohol check missing \n",
    "  \n",
    "consum_alchohol_raw = df[\"consum_alchohol\"]\n",
    "\n",
    "# ================ check missing value ============\n",
    "\n",
    "is_missing = consum_alchohol_raw.isna() | (consum_alchohol_raw.astype(str).str.strip() == \"\")\n",
    "n_missing = int(is_missing.sum())\n",
    "total = len(df)\n",
    "print(f\"[OF-1] Missing: {n_missing} / {total} rows ({n_missing/total*100:.2f}%)\")\n",
    "\n",
    "display(consum_alchohol_raw.value_counts())\n",
    "\n"
   ]
  },
  {
   "cell_type": "code",
   "execution_count": 20,
   "id": "94ed41d7",
   "metadata": {},
   "outputs": [
    {
     "name": "stdout",
     "output_type": "stream",
     "text": [
      "[OF-1] Missing: 0 / 2111 rows (0.00%)\n"
     ]
    },
    {
     "data": {
      "application/vnd.microsoft.datawrangler.viewer.v0+json": {
       "columns": [
        {
         "name": "transportation",
         "rawType": "object",
         "type": "string"
        },
        {
         "name": "count",
         "rawType": "int64",
         "type": "integer"
        }
       ],
       "ref": "eedb4e58-1bde-4472-9f09-0ada47b8fae5",
       "rows": [
        [
         "pt",
         "1580"
        ],
        [
         "c",
         "457"
        ],
        [
         "w",
         "56"
        ],
        [
         "mb",
         "11"
        ],
        [
         "b",
         "7"
        ]
       ],
       "shape": {
        "columns": 1,
        "rows": 5
       }
      },
      "text/plain": [
       "transportation\n",
       "pt    1580\n",
       "c      457\n",
       "w       56\n",
       "mb      11\n",
       "b        7\n",
       "Name: count, dtype: int64"
      ]
     },
     "metadata": {},
     "output_type": "display_data"
    }
   ],
   "source": [
    "# Step 3.15 clean other_disease check missing \n",
    "other_disease_raw = df[\"transportation\"]\n",
    "\n",
    "# ================ check missing value ============\n",
    "\n",
    "is_missing = other_disease_raw.isna() | (other_disease_raw.astype(str).str.strip() == \"\")\n",
    "n_missing = int(is_missing.sum())\n",
    "total = len(df)\n",
    "print(f\"[OF-1] Missing: {n_missing} / {total} rows ({n_missing/total*100:.2f}%)\")\n",
    "\n",
    "display(other_disease_raw.value_counts())\n"
   ]
  },
  {
   "cell_type": "code",
   "execution_count": 23,
   "id": "4880f1f5",
   "metadata": {},
   "outputs": [
    {
     "name": "stdout",
     "output_type": "stream",
     "text": [
      "[OF-1] Missing: 0 / 2111 rows (0.00%)\n"
     ]
    },
    {
     "data": {
      "application/vnd.microsoft.datawrangler.viewer.v0+json": {
       "columns": [
        {
         "name": "Obesity",
         "rawType": "int64",
         "type": "integer"
        },
        {
         "name": "count",
         "rawType": "int64",
         "type": "integer"
        }
       ],
       "ref": "2a6b418e-c922-4680-a9a7-6db1a57293d1",
       "rows": [
        [
         "4",
         "351"
        ],
        [
         "6",
         "324"
        ],
        [
         "5",
         "297"
        ],
        [
         "2",
         "290"
        ],
        [
         "3",
         "290"
        ],
        [
         "1",
         "287"
        ],
        [
         "0",
         "272"
        ]
       ],
       "shape": {
        "columns": 1,
        "rows": 7
       }
      },
      "text/plain": [
       "Obesity\n",
       "4    351\n",
       "6    324\n",
       "5    297\n",
       "2    290\n",
       "3    290\n",
       "1    287\n",
       "0    272\n",
       "Name: count, dtype: int64"
      ]
     },
     "metadata": {},
     "output_type": "display_data"
    }
   ],
   "source": [
    "# Step 3.15 clean Obesity check missing \n",
    "\n",
    "Obesity_raw = df[\"Obesity\"]\n",
    "\n",
    "# ================ check missing value ============\n",
    "\n",
    "is_missing = Obesity_raw.isna() | (Obesity_raw.astype(str).str.strip() == \"\")\n",
    "n_missing = int(is_missing.sum())\n",
    "total = len(df)\n",
    "print(f\"[OF-1] Missing: {n_missing} / {total} rows ({n_missing/total*100:.2f}%)\")\n",
    "\n",
    "display(Obesity_raw.value_counts())"
   ]
  },
  {
   "cell_type": "code",
   "execution_count": null,
   "id": "916c6804",
   "metadata": {},
   "outputs": [
    {
     "data": {
      "application/vnd.microsoft.datawrangler.viewer.v0+json": {
       "columns": [
        {
         "name": "gender_clean",
         "rawType": "object",
         "type": "string"
        },
        {
         "name": "count",
         "rawType": "int64",
         "type": "integer"
        }
       ],
       "ref": "40408c1b-2945-4fc5-a9dc-4bac9f0d61fb",
       "rows": [
        [
         "Male",
         "1068"
        ],
        [
         "Female",
         "1043"
        ]
       ],
       "shape": {
        "columns": 1,
        "rows": 2
       }
      },
      "text/plain": [
       "gender_clean\n",
       "Male      1068\n",
       "Female    1043\n",
       "Name: count, dtype: int64"
      ]
     },
     "metadata": {},
     "output_type": "display_data"
    },
    {
     "data": {
      "application/vnd.microsoft.datawrangler.viewer.v0+json": {
       "columns": [
        {
         "name": "BMI",
         "rawType": "float64",
         "type": "float"
        },
        {
         "name": "count",
         "rawType": "int64",
         "type": "integer"
        }
       ],
       "ref": "c0d5656c-00d2-4f47-9b5e-f5778646c438",
       "rows": [
        [
         "29.76",
         "11"
        ],
        [
         "26.72",
         "10"
        ],
        [
         "27.1",
         "10"
        ],
        [
         "18.8",
         "10"
        ],
        [
         "27.02",
         "9"
        ],
        [
         "25.69",
         "9"
        ],
        [
         "26.08",
         "8"
        ],
        [
         "26.33",
         "8"
        ],
        [
         "18.55",
         "8"
        ],
        [
         "28.4",
         "7"
        ],
        [
         "32.24",
         "7"
        ],
        [
         "17.44",
         "7"
        ],
        [
         "43.49",
         "6"
        ],
        [
         "42.35",
         "6"
        ],
        [
         "26.47",
         "6"
        ],
        [
         "36.33",
         "6"
        ],
        [
         "25.85",
         "6"
        ],
        [
         "26.3",
         "6"
        ],
        [
         "18.13",
         "6"
        ],
        [
         "17.99",
         "6"
        ],
        [
         "18.37",
         "6"
        ],
        [
         "18.4",
         "5"
        ],
        [
         "25.48",
         "5"
        ],
        [
         "24.54",
         "5"
        ],
        [
         "35.03",
         "5"
        ],
        [
         "39.37",
         "5"
        ],
        [
         "35.32",
         "5"
        ],
        [
         "17.9",
         "5"
        ],
        [
         "41.78",
         "5"
        ],
        [
         "18.35",
         "5"
        ],
        [
         "17.75",
         "5"
        ],
        [
         "24.68",
         "5"
        ],
        [
         "27.4",
         "5"
        ],
        [
         "43.06",
         "5"
        ],
        [
         "17.78",
         "5"
        ],
        [
         "28.09",
         "5"
        ],
        [
         "22.14",
         "5"
        ],
        [
         "41.47",
         "5"
        ],
        [
         "36.42",
         "5"
        ],
        [
         "26.96",
         "5"
        ],
        [
         "26.05",
         "4"
        ],
        [
         "22.91",
         "4"
        ],
        [
         "26.31",
         "4"
        ],
        [
         "29.37",
         "4"
        ],
        [
         "42.08",
         "4"
        ],
        [
         "30.86",
         "4"
        ],
        [
         "32.79",
         "4"
        ],
        [
         "31.23",
         "4"
        ],
        [
         "33.69",
         "4"
        ],
        [
         "41.43",
         "4"
        ]
       ],
       "shape": {
        "columns": 1,
        "rows": 1247
       }
      },
      "text/plain": [
       "BMI\n",
       "29.76    11\n",
       "26.72    10\n",
       "27.10    10\n",
       "18.80    10\n",
       "27.02     9\n",
       "         ..\n",
       "43.83     1\n",
       "43.96     1\n",
       "44.47     1\n",
       "44.54     1\n",
       "45.86     1\n",
       "Name: count, Length: 1247, dtype: int64"
      ]
     },
     "metadata": {},
     "output_type": "display_data"
    },
    {
     "data": {
      "application/vnd.microsoft.datawrangler.viewer.v0+json": {
       "columns": [
        {
         "name": "height_m_clean",
         "rawType": "float64",
         "type": "float"
        },
        {
         "name": "count",
         "rawType": "int64",
         "type": "integer"
        }
       ],
       "ref": "e5a579c6-3bf1-4dec-b8b2-edd2f4769a11",
       "rows": [
        [
         "1.71",
         "125"
        ],
        [
         "1.76",
         "122"
        ],
        [
         "1.63",
         "96"
        ],
        [
         "1.77",
         "96"
        ],
        [
         "1.66",
         "88"
        ],
        [
         "1.61",
         "77"
        ],
        [
         "1.73",
         "76"
        ],
        [
         "1.64",
         "75"
        ],
        [
         "1.78",
         "71"
        ],
        [
         "1.72",
         "68"
        ],
        [
         "1.65",
         "66"
        ],
        [
         "1.75",
         "66"
        ],
        [
         "1.68",
         "66"
        ],
        [
         "1.8",
         "65"
        ],
        [
         "1.79",
         "64"
        ],
        [
         "1.62",
         "62"
        ],
        [
         "1.69",
         "61"
        ],
        [
         "1.81",
         "59"
        ],
        [
         "1.67",
         "58"
        ],
        [
         "1.7",
         "54"
        ],
        [
         "1.83",
         "50"
        ],
        [
         "1.74",
         "43"
        ],
        [
         "1.85",
         "40"
        ],
        [
         "1.57",
         "39"
        ],
        [
         "1.86",
         "39"
        ],
        [
         "1.82",
         "39"
        ],
        [
         "1.84",
         "35"
        ],
        [
         "1.56",
         "32"
        ],
        [
         "1.58",
         "30"
        ],
        [
         "1.6",
         "29"
        ],
        [
         "1.59",
         "27"
        ],
        [
         "1.54",
         "27"
        ],
        [
         "1.88",
         "22"
        ],
        [
         "1.87",
         "21"
        ],
        [
         "1.55",
         "20"
        ],
        [
         "1.53",
         "19"
        ],
        [
         "1.51",
         "17"
        ],
        [
         "1.92",
         "13"
        ],
        [
         "1.52",
         "11"
        ],
        [
         "1.89",
         "10"
        ],
        [
         "1.9",
         "7"
        ],
        [
         "1.91",
         "7"
        ],
        [
         "1.94",
         "4"
        ],
        [
         "1.49",
         "3"
        ],
        [
         "1.93",
         "3"
        ],
        [
         "1.5",
         "3"
        ],
        [
         "1.99",
         "2"
        ],
        [
         "1.46",
         "1"
        ],
        [
         "1.47",
         "1"
        ],
        [
         "1.96",
         "1"
        ]
       ],
       "shape": {
        "columns": 1,
        "rows": 51
       }
      },
      "text/plain": [
       "height_m_clean\n",
       "1.71    125\n",
       "1.76    122\n",
       "1.63     96\n",
       "1.77     96\n",
       "1.66     88\n",
       "1.61     77\n",
       "1.73     76\n",
       "1.64     75\n",
       "1.78     71\n",
       "1.72     68\n",
       "1.65     66\n",
       "1.75     66\n",
       "1.68     66\n",
       "1.80     65\n",
       "1.79     64\n",
       "1.62     62\n",
       "1.69     61\n",
       "1.81     59\n",
       "1.67     58\n",
       "1.70     54\n",
       "1.83     50\n",
       "1.74     43\n",
       "1.85     40\n",
       "1.57     39\n",
       "1.86     39\n",
       "1.82     39\n",
       "1.84     35\n",
       "1.56     32\n",
       "1.58     30\n",
       "1.60     29\n",
       "1.59     27\n",
       "1.54     27\n",
       "1.88     22\n",
       "1.87     21\n",
       "1.55     20\n",
       "1.53     19\n",
       "1.51     17\n",
       "1.92     13\n",
       "1.52     11\n",
       "1.89     10\n",
       "1.90      7\n",
       "1.91      7\n",
       "1.94      4\n",
       "1.49      3\n",
       "1.93      3\n",
       "1.50      3\n",
       "1.99      2\n",
       "1.46      1\n",
       "1.47      1\n",
       "1.96      1\n",
       "1.95      1\n",
       "Name: count, dtype: int64"
      ]
     },
     "metadata": {},
     "output_type": "display_data"
    },
    {
     "data": {
      "application/vnd.microsoft.datawrangler.viewer.v0+json": {
       "columns": [
        {
         "name": "weight_kg_clean",
         "rawType": "float64",
         "type": "float"
        },
        {
         "name": "count",
         "rawType": "int64",
         "type": "integer"
        }
       ],
       "ref": "f6afd178-c706-4414-acab-2d26c7e3d59f",
       "rows": [
        [
         "82.0",
         "47"
        ],
        [
         "52.0",
         "32"
        ],
        [
         "61.0",
         "27"
        ],
        [
         "77.0",
         "27"
        ],
        [
         "71.0",
         "26"
        ],
        [
         "67.0",
         "26"
        ],
        [
         "72.0",
         "24"
        ],
        [
         "84.0",
         "23"
        ],
        [
         "51.0",
         "22"
        ],
        [
         "91.0",
         "22"
        ],
        [
         "76.0",
         "22"
        ],
        [
         "79.0",
         "22"
        ],
        [
         "62.0",
         "20"
        ],
        [
         "81.0",
         "19"
        ],
        [
         "57.0",
         "19"
        ],
        [
         "66.0",
         "18"
        ],
        [
         "44.0",
         "17"
        ],
        [
         "107.0",
         "17"
        ],
        [
         "64.0",
         "16"
        ],
        [
         "106.0",
         "15"
        ],
        [
         "113.9",
         "14"
        ],
        [
         "87.0",
         "14"
        ],
        [
         "86.0",
         "14"
        ],
        [
         "80.0",
         "12"
        ],
        [
         "83.0",
         "12"
        ],
        [
         "47.0",
         "12"
        ],
        [
         "58.0",
         "12"
        ],
        [
         "92.0",
         "11"
        ],
        [
         "84.4",
         "11"
        ],
        [
         "56.0",
         "11"
        ],
        [
         "112.9",
         "10"
        ],
        [
         "59.0",
         "10"
        ],
        [
         "85.0",
         "10"
        ],
        [
         "54.0",
         "10"
        ],
        [
         "84.3",
         "10"
        ],
        [
         "105.8",
         "10"
        ],
        [
         "73.0",
         "10"
        ],
        [
         "50.0",
         "10"
        ],
        [
         "60.0",
         "10"
        ],
        [
         "89.1",
         "9"
        ],
        [
         "89.0",
         "9"
        ],
        [
         "134.9",
         "9"
        ],
        [
         "43.0",
         "9"
        ],
        [
         "70.0",
         "9"
        ],
        [
         "74.0",
         "8"
        ],
        [
         "53.0",
         "8"
        ],
        [
         "122.0",
         "8"
        ],
        [
         "88.0",
         "8"
        ],
        [
         "111.0",
         "8"
        ],
        [
         "106.8",
         "8"
        ]
       ],
       "shape": {
        "columns": 1,
        "rows": 702
       }
      },
      "text/plain": [
       "weight_kg_clean\n",
       "82.0     47\n",
       "52.0     32\n",
       "61.0     27\n",
       "77.0     27\n",
       "71.0     26\n",
       "         ..\n",
       "130.1     1\n",
       "128.8     1\n",
       "130.7     1\n",
       "114.8     1\n",
       "157.2     1\n",
       "Name: count, Length: 702, dtype: int64"
      ]
     },
     "metadata": {},
     "output_type": "display_data"
    },
    {
     "data": {
      "application/vnd.microsoft.datawrangler.viewer.v0+json": {
       "columns": [
        {
         "name": "overweight_family",
         "rawType": "int64",
         "type": "integer"
        },
        {
         "name": "count",
         "rawType": "int64",
         "type": "integer"
        }
       ],
       "ref": "88ef957d-3e6c-4ef9-89e8-f3033014bc0c",
       "rows": [
        [
         "1",
         "1726"
        ],
        [
         "0",
         "385"
        ]
       ],
       "shape": {
        "columns": 1,
        "rows": 2
       }
      },
      "text/plain": [
       "overweight_family\n",
       "1    1726\n",
       "0     385\n",
       "Name: count, dtype: int64"
      ]
     },
     "metadata": {},
     "output_type": "display_data"
    },
    {
     "data": {
      "application/vnd.microsoft.datawrangler.viewer.v0+json": {
       "columns": [
        {
         "name": "consum_cf",
         "rawType": "int64",
         "type": "integer"
        },
        {
         "name": "count",
         "rawType": "int64",
         "type": "integer"
        }
       ],
       "ref": "f3a0c289-082f-4a10-b98c-bb2e8e30186b",
       "rows": [
        [
         "1",
         "1866"
        ],
        [
         "0",
         "245"
        ]
       ],
       "shape": {
        "columns": 1,
        "rows": 2
       }
      },
      "text/plain": [
       "consum_cf\n",
       "1    1866\n",
       "0     245\n",
       "Name: count, dtype: int64"
      ]
     },
     "metadata": {},
     "output_type": "display_data"
    },
    {
     "data": {
      "application/vnd.microsoft.datawrangler.viewer.v0+json": {
       "columns": [
        {
         "name": "consum_vf_clean",
         "rawType": "int64",
         "type": "integer"
        },
        {
         "name": "count",
         "rawType": "int64",
         "type": "integer"
        }
       ],
       "ref": "25aa56f7-e706-4615-bbd8-4c6500d7b276",
       "rows": [
        [
         "2",
         "1257"
        ],
        [
         "3",
         "652"
        ],
        [
         "1",
         "202"
        ]
       ],
       "shape": {
        "columns": 1,
        "rows": 3
       }
      },
      "text/plain": [
       "consum_vf_clean\n",
       "2    1257\n",
       "3     652\n",
       "1     202\n",
       "Name: count, dtype: int64"
      ]
     },
     "metadata": {},
     "output_type": "display_data"
    },
    {
     "data": {
      "application/vnd.microsoft.datawrangler.viewer.v0+json": {
       "columns": [
        {
         "name": "consum_daily_clean",
         "rawType": "int64",
         "type": "integer"
        },
        {
         "name": "count",
         "rawType": "int64",
         "type": "integer"
        }
       ],
       "ref": "61c4cce0-6aa2-4bf9-b354-fd6eea571152",
       "rows": [
        [
         "3",
         "1362"
        ],
        [
         "1",
         "395"
        ],
        [
         "2",
         "285"
        ],
        [
         "4",
         "69"
        ]
       ],
       "shape": {
        "columns": 1,
        "rows": 4
       }
      },
      "text/plain": [
       "consum_daily_clean\n",
       "3    1362\n",
       "1     395\n",
       "2     285\n",
       "4      69\n",
       "Name: count, dtype: int64"
      ]
     },
     "metadata": {},
     "output_type": "display_data"
    },
    {
     "data": {
      "application/vnd.microsoft.datawrangler.viewer.v0+json": {
       "columns": [
        {
         "name": "consum_other",
         "rawType": "object",
         "type": "string"
        },
        {
         "name": "count",
         "rawType": "int64",
         "type": "integer"
        }
       ],
       "ref": "9fc1a63c-2274-409d-a426-8bdc5ed7f621",
       "rows": [
        [
         "Sometimes",
         "1765"
        ],
        [
         "Frequently",
         "242"
        ],
        [
         "Always",
         "53"
        ],
        [
         "no",
         "51"
        ]
       ],
       "shape": {
        "columns": 1,
        "rows": 4
       }
      },
      "text/plain": [
       "consum_other\n",
       "Sometimes     1765\n",
       "Frequently     242\n",
       "Always          53\n",
       "no              51\n",
       "Name: count, dtype: int64"
      ]
     },
     "metadata": {},
     "output_type": "display_data"
    },
    {
     "data": {
      "application/vnd.microsoft.datawrangler.viewer.v0+json": {
       "columns": [
        {
         "name": "smoking",
         "rawType": "object",
         "type": "string"
        },
        {
         "name": "count",
         "rawType": "int64",
         "type": "integer"
        }
       ],
       "ref": "7f397331-583d-4023-8c9f-bcece3e8389d",
       "rows": [
        [
         "no",
         "2067"
        ],
        [
         "yes",
         "44"
        ]
       ],
       "shape": {
        "columns": 1,
        "rows": 2
       }
      },
      "text/plain": [
       "smoking\n",
       "no     2067\n",
       "yes      44\n",
       "Name: count, dtype: int64"
      ]
     },
     "metadata": {},
     "output_type": "display_data"
    },
    {
     "data": {
      "application/vnd.microsoft.datawrangler.viewer.v0+json": {
       "columns": [
        {
         "name": "consum_water",
         "rawType": "int64",
         "type": "integer"
        },
        {
         "name": "count",
         "rawType": "int64",
         "type": "integer"
        }
       ],
       "ref": "525e39f0-6a2b-4e58-b07a-e66bad3a9a3e",
       "rows": [
        [
         "2",
         "1180"
        ],
        [
         "1",
         "769"
        ],
        [
         "3",
         "162"
        ]
       ],
       "shape": {
        "columns": 1,
        "rows": 3
       }
      },
      "text/plain": [
       "consum_water\n",
       "2    1180\n",
       "1     769\n",
       "3     162\n",
       "Name: count, dtype: int64"
      ]
     },
     "metadata": {},
     "output_type": "display_data"
    },
    {
     "data": {
      "application/vnd.microsoft.datawrangler.viewer.v0+json": {
       "columns": [
        {
         "name": "cal_monitoring",
         "rawType": "object",
         "type": "string"
        },
        {
         "name": "count",
         "rawType": "int64",
         "type": "integer"
        }
       ],
       "ref": "fc47f5d2-7dc6-46a1-9a5f-39f8d1e11d09",
       "rows": [
        [
         "no",
         "2015"
        ],
        [
         "yes",
         "96"
        ]
       ],
       "shape": {
        "columns": 1,
        "rows": 2
       }
      },
      "text/plain": [
       "cal_monitoring\n",
       "no     2015\n",
       "yes      96\n",
       "Name: count, dtype: int64"
      ]
     },
     "metadata": {},
     "output_type": "display_data"
    },
    {
     "data": {
      "application/vnd.microsoft.datawrangler.viewer.v0+json": {
       "columns": [
        {
         "name": "phyical_activity_clean",
         "rawType": "int64",
         "type": "integer"
        },
        {
         "name": "count",
         "rawType": "int64",
         "type": "integer"
        }
       ],
       "ref": "bdf5c60d-13c3-4cd7-bb12-14227aad4044",
       "rows": [
        [
         "1",
         "1497"
        ],
        [
         "2",
         "495"
        ],
        [
         "3",
         "119"
        ]
       ],
       "shape": {
        "columns": 1,
        "rows": 3
       }
      },
      "text/plain": [
       "phyical_activity_clean\n",
       "1    1497\n",
       "2     495\n",
       "3     119\n",
       "Name: count, dtype: int64"
      ]
     },
     "metadata": {},
     "output_type": "display_data"
    },
    {
     "data": {
      "application/vnd.microsoft.datawrangler.viewer.v0+json": {
       "columns": [
        {
         "name": "device_usage",
         "rawType": "int64",
         "type": "integer"
        },
        {
         "name": "count",
         "rawType": "int64",
         "type": "integer"
        }
       ],
       "ref": "d2ad8e39-1e06-47f5-a98b-c428376476eb",
       "rows": [
        [
         "0",
         "1415"
        ],
        [
         "1",
         "587"
        ],
        [
         "2",
         "109"
        ]
       ],
       "shape": {
        "columns": 1,
        "rows": 3
       }
      },
      "text/plain": [
       "device_usage\n",
       "0    1415\n",
       "1     587\n",
       "2     109\n",
       "Name: count, dtype: int64"
      ]
     },
     "metadata": {},
     "output_type": "display_data"
    },
    {
     "data": {
      "application/vnd.microsoft.datawrangler.viewer.v0+json": {
       "columns": [
        {
         "name": "consum_alchohol",
         "rawType": "object",
         "type": "string"
        },
        {
         "name": "count",
         "rawType": "int64",
         "type": "integer"
        }
       ],
       "ref": "c361f1fe-3a5e-41f6-add2-58d0b44f4d9b",
       "rows": [
        [
         "Sometimes",
         "1401"
        ],
        [
         "no",
         "639"
        ],
        [
         "Frequently",
         "70"
        ],
        [
         "Always",
         "1"
        ]
       ],
       "shape": {
        "columns": 1,
        "rows": 4
       }
      },
      "text/plain": [
       "consum_alchohol\n",
       "Sometimes     1401\n",
       "no             639\n",
       "Frequently      70\n",
       "Always           1\n",
       "Name: count, dtype: int64"
      ]
     },
     "metadata": {},
     "output_type": "display_data"
    },
    {
     "data": {
      "application/vnd.microsoft.datawrangler.viewer.v0+json": {
       "columns": [
        {
         "name": "transportation",
         "rawType": "object",
         "type": "string"
        },
        {
         "name": "count",
         "rawType": "int64",
         "type": "integer"
        }
       ],
       "ref": "4bfcc7e9-2bcd-4dd7-9a02-90448be217c0",
       "rows": [
        [
         "pt",
         "1580"
        ],
        [
         "c",
         "457"
        ],
        [
         "w",
         "56"
        ],
        [
         "mb",
         "11"
        ],
        [
         "b",
         "7"
        ]
       ],
       "shape": {
        "columns": 1,
        "rows": 5
       }
      },
      "text/plain": [
       "transportation\n",
       "pt    1580\n",
       "c      457\n",
       "w       56\n",
       "mb      11\n",
       "b        7\n",
       "Name: count, dtype: int64"
      ]
     },
     "metadata": {},
     "output_type": "display_data"
    },
    {
     "data": {
      "application/vnd.microsoft.datawrangler.viewer.v0+json": {
       "columns": [
        {
         "name": "Obesity",
         "rawType": "int64",
         "type": "integer"
        },
        {
         "name": "count",
         "rawType": "int64",
         "type": "integer"
        }
       ],
       "ref": "c5a977ff-7938-4621-a80a-0e5c8bdd76cd",
       "rows": [
        [
         "4",
         "351"
        ],
        [
         "6",
         "324"
        ],
        [
         "5",
         "297"
        ],
        [
         "2",
         "290"
        ],
        [
         "3",
         "290"
        ],
        [
         "1",
         "287"
        ],
        [
         "0",
         "272"
        ]
       ],
       "shape": {
        "columns": 1,
        "rows": 7
       }
      },
      "text/plain": [
       "Obesity\n",
       "4    351\n",
       "6    324\n",
       "5    297\n",
       "2    290\n",
       "3    290\n",
       "1    287\n",
       "0    272\n",
       "Name: count, dtype: int64"
      ]
     },
     "metadata": {},
     "output_type": "display_data"
    }
   ],
   "source": [
    "# สรุปข้อมูลที่ทำความสะอาดแล้ว\n",
    "display(df[\"gender_clean\"].value_counts(), df[\"BMI\"].value_counts(), df[\"height_m_clean\"].value_counts(), \n",
    "        df[\"weight_kg_clean\"].value_counts(), df[\"overweight_family\"].value_counts(), df[\"consum_cf\"].value_counts(), \n",
    "        df[\"consum_vf_clean\"].value_counts(), df[\"consum_daily_clean\"].value_counts(), df[\"consum_other\"].value_counts(), \n",
    "        df[\"smoking\"].value_counts(), df[\"consum_water\"].value_counts(), df[\"cal_monitoring\"].value_counts(), \n",
    "        df[\"phyical_activity\" + \"_clean\"].value_counts(), device_usage_clean.value_counts(),consum_alchohol_raw.value_counts(),\n",
    "        other_disease_raw.value_counts(),Obesity_raw.value_counts())"
   ]
  },
  {
   "cell_type": "code",
   "execution_count": null,
   "id": "a622c9ae",
   "metadata": {},
   "outputs": [],
   "source": [
    "# Step 4: Export ข้อมูลที่ทำความสะอาดแล้ว\n",
    "out = df[[\"gender_clean\", \"age_clean\",\"BMI\", \"height_m_clean\", \"weight_kg_clean\", \"overweight_family\", \"consum_cf\", \"consum_vf_clean\"\n",
    "          , \"consum_daily_clean\", \"consum_other\", \"smoking\", \"consum_water\", \"cal_monitoring\", \"phyical_activity\" + \"_clean\", \n",
    "          \"device_usage\", \"consum_alchohol\", \"transportation\", \"Obesity\"]].copy()\n",
    "\n",
    "out.rename(columns={\"gender_clean\": \"gender\"}, inplace=True)\n",
    "out.rename(columns={\"age\": \"age\"}, inplace=True)\n",
    "out.rename(columns={\"BMI\": \"bmi\"}, inplace=True)\n",
    "out.rename(columns={\"height_m_clean\": \"height_m\"}, inplace=True)\n",
    "out.rename(columns={\"weight_kg_clean\": \"weight_kg\"}, inplace=True)\n",
    "out.rename(columns={\"overweight_family\": \"overweight_family\"}, inplace=True)\n",
    "out.rename(columns={\"consum_cf\": \"consum_cf\"}, inplace=True)\n",
    "out.rename(columns={\"consum_vf_clean\": \"consum_vf\"}, inplace=True)\n",
    "out.rename(columns={\"consum_daily_clean\": \"consum_daily\"}, inplace=True)\n",
    "out.rename(columns={\"consum_other\": \"consum_other\"}, inplace=True)\n",
    "out.rename(columns={\"smoking\": \"smoking\"}, inplace=True)\n",
    "out.rename(columns={\"consum_water\": \"consum_water\"}, inplace=True)\n",
    "out.rename(columns={\"cal_monitoring\": \"cal_monitoring\"}, inplace=True)\n",
    "out.rename(columns={\"phyical_activity\" + \"_clean\": \"phyical_activity\"}, inplace=True)\n",
    "out.rename(columns={\"device_usage\": \"device_usage\"}, inplace=True)\n",
    "out.rename(columns={\"consum_alchohol\": \"consum_alchohol\"}, inplace=True)\n",
    "out.rename(columns={\"transportation\": \"transportation\"}, inplace=True)\n",
    "out.rename(columns={\"Obesity\": \"Obesity\"}, inplace=True)\n",
    "\n",
    "out.to_csv(\"MOBS_02S_Clean.csv\", index=False, encoding=\"utf-8-sig\")"
   ]
  }
 ],
 "metadata": {
  "kernelspec": {
   "display_name": ".venv",
   "language": "python",
   "name": "python3"
  },
  "language_info": {
   "codemirror_mode": {
    "name": "ipython",
    "version": 3
   },
   "file_extension": ".py",
   "mimetype": "text/x-python",
   "name": "python",
   "nbconvert_exporter": "python",
   "pygments_lexer": "ipython3",
   "version": "3.10.11"
  }
 },
 "nbformat": 4,
 "nbformat_minor": 5
}
